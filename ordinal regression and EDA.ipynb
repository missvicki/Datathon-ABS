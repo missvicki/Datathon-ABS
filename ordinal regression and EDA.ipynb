{
 "cells": [
  {
   "cell_type": "code",
   "execution_count": 1,
   "id": "98416a3d",
   "metadata": {},
   "outputs": [
    {
     "data": {
      "text/html": [
       "<div>\n",
       "<style scoped>\n",
       "    .dataframe tbody tr th:only-of-type {\n",
       "        vertical-align: middle;\n",
       "    }\n",
       "\n",
       "    .dataframe tbody tr th {\n",
       "        vertical-align: top;\n",
       "    }\n",
       "\n",
       "    .dataframe thead th {\n",
       "        text-align: right;\n",
       "    }\n",
       "</style>\n",
       "<table border=\"1\" class=\"dataframe\">\n",
       "  <thead>\n",
       "    <tr style=\"text-align: right;\">\n",
       "      <th></th>\n",
       "      <th>country</th>\n",
       "      <th>idnumber</th>\n",
       "      <th>level3</th>\n",
       "      <th>yrsurvey</th>\n",
       "      <th>se002</th>\n",
       "      <th>se003</th>\n",
       "      <th>se003a</th>\n",
       "      <th>se004</th>\n",
       "      <th>se004a</th>\n",
       "      <th>se005</th>\n",
       "      <th>...</th>\n",
       "      <th>ir010e</th>\n",
       "      <th>w_jp</th>\n",
       "      <th>w_hk</th>\n",
       "      <th>w_kr</th>\n",
       "      <th>w_cn</th>\n",
       "      <th>w_mo</th>\n",
       "      <th>w_ph</th>\n",
       "      <th>w_tw</th>\n",
       "      <th>w_th</th>\n",
       "      <th>w_all</th>\n",
       "    </tr>\n",
       "  </thead>\n",
       "  <tbody>\n",
       "    <tr>\n",
       "      <th>0</th>\n",
       "      <td>4.0</td>\n",
       "      <td>1.0</td>\n",
       "      <td>1.0</td>\n",
       "      <td>2002.0</td>\n",
       "      <td>1.0</td>\n",
       "      <td>5.0</td>\n",
       "      <td>38.0</td>\n",
       "      <td>NaN</td>\n",
       "      <td>1.0</td>\n",
       "      <td>5.0</td>\n",
       "      <td>...</td>\n",
       "      <td>NaN</td>\n",
       "      <td>NaN</td>\n",
       "      <td>NaN</td>\n",
       "      <td>NaN</td>\n",
       "      <td>0.621390</td>\n",
       "      <td>NaN</td>\n",
       "      <td>NaN</td>\n",
       "      <td>NaN</td>\n",
       "      <td>NaN</td>\n",
       "      <td>0.62</td>\n",
       "    </tr>\n",
       "    <tr>\n",
       "      <th>1</th>\n",
       "      <td>4.0</td>\n",
       "      <td>2.0</td>\n",
       "      <td>1.0</td>\n",
       "      <td>2002.0</td>\n",
       "      <td>2.0</td>\n",
       "      <td>10.0</td>\n",
       "      <td>60.0</td>\n",
       "      <td>NaN</td>\n",
       "      <td>1.0</td>\n",
       "      <td>4.0</td>\n",
       "      <td>...</td>\n",
       "      <td>NaN</td>\n",
       "      <td>NaN</td>\n",
       "      <td>NaN</td>\n",
       "      <td>NaN</td>\n",
       "      <td>0.446785</td>\n",
       "      <td>NaN</td>\n",
       "      <td>NaN</td>\n",
       "      <td>NaN</td>\n",
       "      <td>NaN</td>\n",
       "      <td>0.45</td>\n",
       "    </tr>\n",
       "    <tr>\n",
       "      <th>2</th>\n",
       "      <td>4.0</td>\n",
       "      <td>3.0</td>\n",
       "      <td>1.0</td>\n",
       "      <td>2002.0</td>\n",
       "      <td>2.0</td>\n",
       "      <td>10.0</td>\n",
       "      <td>69.0</td>\n",
       "      <td>NaN</td>\n",
       "      <td>1.0</td>\n",
       "      <td>1.0</td>\n",
       "      <td>...</td>\n",
       "      <td>NaN</td>\n",
       "      <td>NaN</td>\n",
       "      <td>NaN</td>\n",
       "      <td>NaN</td>\n",
       "      <td>0.583658</td>\n",
       "      <td>NaN</td>\n",
       "      <td>NaN</td>\n",
       "      <td>NaN</td>\n",
       "      <td>NaN</td>\n",
       "      <td>0.58</td>\n",
       "    </tr>\n",
       "    <tr>\n",
       "      <th>3</th>\n",
       "      <td>4.0</td>\n",
       "      <td>4.0</td>\n",
       "      <td>1.0</td>\n",
       "      <td>2002.0</td>\n",
       "      <td>2.0</td>\n",
       "      <td>5.0</td>\n",
       "      <td>39.0</td>\n",
       "      <td>NaN</td>\n",
       "      <td>1.0</td>\n",
       "      <td>8.0</td>\n",
       "      <td>...</td>\n",
       "      <td>NaN</td>\n",
       "      <td>NaN</td>\n",
       "      <td>NaN</td>\n",
       "      <td>NaN</td>\n",
       "      <td>0.490000</td>\n",
       "      <td>NaN</td>\n",
       "      <td>NaN</td>\n",
       "      <td>NaN</td>\n",
       "      <td>NaN</td>\n",
       "      <td>0.49</td>\n",
       "    </tr>\n",
       "    <tr>\n",
       "      <th>4</th>\n",
       "      <td>4.0</td>\n",
       "      <td>5.0</td>\n",
       "      <td>1.0</td>\n",
       "      <td>2002.0</td>\n",
       "      <td>1.0</td>\n",
       "      <td>7.0</td>\n",
       "      <td>48.0</td>\n",
       "      <td>NaN</td>\n",
       "      <td>1.0</td>\n",
       "      <td>4.0</td>\n",
       "      <td>...</td>\n",
       "      <td>NaN</td>\n",
       "      <td>NaN</td>\n",
       "      <td>NaN</td>\n",
       "      <td>NaN</td>\n",
       "      <td>0.396647</td>\n",
       "      <td>NaN</td>\n",
       "      <td>NaN</td>\n",
       "      <td>NaN</td>\n",
       "      <td>NaN</td>\n",
       "      <td>0.40</td>\n",
       "    </tr>\n",
       "    <tr>\n",
       "      <th>5</th>\n",
       "      <td>4.0</td>\n",
       "      <td>6.0</td>\n",
       "      <td>1.0</td>\n",
       "      <td>2002.0</td>\n",
       "      <td>1.0</td>\n",
       "      <td>10.0</td>\n",
       "      <td>64.0</td>\n",
       "      <td>NaN</td>\n",
       "      <td>1.0</td>\n",
       "      <td>4.0</td>\n",
       "      <td>...</td>\n",
       "      <td>NaN</td>\n",
       "      <td>NaN</td>\n",
       "      <td>NaN</td>\n",
       "      <td>NaN</td>\n",
       "      <td>0.479041</td>\n",
       "      <td>NaN</td>\n",
       "      <td>NaN</td>\n",
       "      <td>NaN</td>\n",
       "      <td>NaN</td>\n",
       "      <td>0.48</td>\n",
       "    </tr>\n",
       "    <tr>\n",
       "      <th>6</th>\n",
       "      <td>4.0</td>\n",
       "      <td>7.0</td>\n",
       "      <td>1.0</td>\n",
       "      <td>2002.0</td>\n",
       "      <td>2.0</td>\n",
       "      <td>2.0</td>\n",
       "      <td>23.0</td>\n",
       "      <td>NaN</td>\n",
       "      <td>2.0</td>\n",
       "      <td>5.0</td>\n",
       "      <td>...</td>\n",
       "      <td>NaN</td>\n",
       "      <td>NaN</td>\n",
       "      <td>NaN</td>\n",
       "      <td>NaN</td>\n",
       "      <td>1.473766</td>\n",
       "      <td>NaN</td>\n",
       "      <td>NaN</td>\n",
       "      <td>NaN</td>\n",
       "      <td>NaN</td>\n",
       "      <td>1.47</td>\n",
       "    </tr>\n",
       "    <tr>\n",
       "      <th>7</th>\n",
       "      <td>4.0</td>\n",
       "      <td>8.0</td>\n",
       "      <td>1.0</td>\n",
       "      <td>2002.0</td>\n",
       "      <td>2.0</td>\n",
       "      <td>10.0</td>\n",
       "      <td>63.0</td>\n",
       "      <td>NaN</td>\n",
       "      <td>1.0</td>\n",
       "      <td>1.0</td>\n",
       "      <td>...</td>\n",
       "      <td>NaN</td>\n",
       "      <td>NaN</td>\n",
       "      <td>NaN</td>\n",
       "      <td>NaN</td>\n",
       "      <td>0.446785</td>\n",
       "      <td>NaN</td>\n",
       "      <td>NaN</td>\n",
       "      <td>NaN</td>\n",
       "      <td>NaN</td>\n",
       "      <td>0.45</td>\n",
       "    </tr>\n",
       "    <tr>\n",
       "      <th>8</th>\n",
       "      <td>4.0</td>\n",
       "      <td>9.0</td>\n",
       "      <td>1.0</td>\n",
       "      <td>2002.0</td>\n",
       "      <td>1.0</td>\n",
       "      <td>10.0</td>\n",
       "      <td>66.0</td>\n",
       "      <td>NaN</td>\n",
       "      <td>1.0</td>\n",
       "      <td>4.0</td>\n",
       "      <td>...</td>\n",
       "      <td>NaN</td>\n",
       "      <td>NaN</td>\n",
       "      <td>NaN</td>\n",
       "      <td>NaN</td>\n",
       "      <td>0.409378</td>\n",
       "      <td>NaN</td>\n",
       "      <td>NaN</td>\n",
       "      <td>NaN</td>\n",
       "      <td>NaN</td>\n",
       "      <td>0.41</td>\n",
       "    </tr>\n",
       "    <tr>\n",
       "      <th>9</th>\n",
       "      <td>4.0</td>\n",
       "      <td>10.0</td>\n",
       "      <td>1.0</td>\n",
       "      <td>2002.0</td>\n",
       "      <td>2.0</td>\n",
       "      <td>3.0</td>\n",
       "      <td>26.0</td>\n",
       "      <td>NaN</td>\n",
       "      <td>1.0</td>\n",
       "      <td>4.0</td>\n",
       "      <td>...</td>\n",
       "      <td>NaN</td>\n",
       "      <td>NaN</td>\n",
       "      <td>NaN</td>\n",
       "      <td>NaN</td>\n",
       "      <td>1.118153</td>\n",
       "      <td>NaN</td>\n",
       "      <td>NaN</td>\n",
       "      <td>NaN</td>\n",
       "      <td>NaN</td>\n",
       "      <td>1.12</td>\n",
       "    </tr>\n",
       "  </tbody>\n",
       "</table>\n",
       "<p>10 rows × 217 columns</p>\n",
       "</div>"
      ],
      "text/plain": [
       "   country  idnumber  level3  yrsurvey  se002  se003  se003a  se004  se004a  \\\n",
       "0      4.0       1.0     1.0    2002.0    1.0    5.0    38.0    NaN     1.0   \n",
       "1      4.0       2.0     1.0    2002.0    2.0   10.0    60.0    NaN     1.0   \n",
       "2      4.0       3.0     1.0    2002.0    2.0   10.0    69.0    NaN     1.0   \n",
       "3      4.0       4.0     1.0    2002.0    2.0    5.0    39.0    NaN     1.0   \n",
       "4      4.0       5.0     1.0    2002.0    1.0    7.0    48.0    NaN     1.0   \n",
       "5      4.0       6.0     1.0    2002.0    1.0   10.0    64.0    NaN     1.0   \n",
       "6      4.0       7.0     1.0    2002.0    2.0    2.0    23.0    NaN     2.0   \n",
       "7      4.0       8.0     1.0    2002.0    2.0   10.0    63.0    NaN     1.0   \n",
       "8      4.0       9.0     1.0    2002.0    1.0   10.0    66.0    NaN     1.0   \n",
       "9      4.0      10.0     1.0    2002.0    2.0    3.0    26.0    NaN     1.0   \n",
       "\n",
       "   se005  ...  ir010e  w_jp  w_hk  w_kr      w_cn  w_mo  w_ph  w_tw  w_th  \\\n",
       "0    5.0  ...     NaN   NaN   NaN   NaN  0.621390   NaN   NaN   NaN   NaN   \n",
       "1    4.0  ...     NaN   NaN   NaN   NaN  0.446785   NaN   NaN   NaN   NaN   \n",
       "2    1.0  ...     NaN   NaN   NaN   NaN  0.583658   NaN   NaN   NaN   NaN   \n",
       "3    8.0  ...     NaN   NaN   NaN   NaN  0.490000   NaN   NaN   NaN   NaN   \n",
       "4    4.0  ...     NaN   NaN   NaN   NaN  0.396647   NaN   NaN   NaN   NaN   \n",
       "5    4.0  ...     NaN   NaN   NaN   NaN  0.479041   NaN   NaN   NaN   NaN   \n",
       "6    5.0  ...     NaN   NaN   NaN   NaN  1.473766   NaN   NaN   NaN   NaN   \n",
       "7    1.0  ...     NaN   NaN   NaN   NaN  0.446785   NaN   NaN   NaN   NaN   \n",
       "8    4.0  ...     NaN   NaN   NaN   NaN  0.409378   NaN   NaN   NaN   NaN   \n",
       "9    4.0  ...     NaN   NaN   NaN   NaN  1.118153   NaN   NaN   NaN   NaN   \n",
       "\n",
       "   w_all  \n",
       "0   0.62  \n",
       "1   0.45  \n",
       "2   0.58  \n",
       "3   0.49  \n",
       "4   0.40  \n",
       "5   0.48  \n",
       "6   1.47  \n",
       "7   0.45  \n",
       "8   0.41  \n",
       "9   1.12  \n",
       "\n",
       "[10 rows x 217 columns]"
      ]
     },
     "execution_count": 1,
     "metadata": {},
     "output_type": "execute_result"
    }
   ],
   "source": [
    "import pyreadstat\n",
    "df_wave1, meta = pyreadstat.read_sav(\"data/W1 Merged Data/Wave.1_Data/Merge/Wave1_20170906.sav\")\n",
    "df_wave1.head(10)"
   ]
  },
  {
   "cell_type": "code",
   "execution_count": 2,
   "id": "cfa43b99",
   "metadata": {},
   "outputs": [],
   "source": [
    "import pandas as pd \n",
    "import seaborn as sns\n",
    "import matplotlib as plt "
   ]
  },
  {
   "cell_type": "code",
   "execution_count": 3,
   "id": "d48586d8",
   "metadata": {},
   "outputs": [],
   "source": [
    "data_dictionary = pd.read_csv(\"D2-ABS1+2.csv\", header=1)"
   ]
  },
  {
   "cell_type": "code",
   "execution_count": 4,
   "id": "12972cad",
   "metadata": {},
   "outputs": [],
   "source": [
    "def select_important_columns(data_dictionary, dataset):\n",
    "  col_names = data_dictionary[\"ABS1_Coding_name\"][0:-6]\n",
    "  return df_wave1[col_names]"
   ]
  },
  {
   "cell_type": "code",
   "execution_count": 5,
   "id": "b901453e",
   "metadata": {},
   "outputs": [],
   "source": [
    "merged_data = pd.merge(df_wave1[['country']], select_important_columns(data_dictionary, df_wave1))"
   ]
  },
  {
   "cell_type": "code",
   "execution_count": 6,
   "id": "59d7002c",
   "metadata": {},
   "outputs": [
    {
     "data": {
      "text/plain": [
       "{'se009': {1.0: 'lowest quintile',\n",
       "  2.0: '2nd quintile',\n",
       "  3.0: '3rd quintile',\n",
       "  4.0: '4th quintile',\n",
       "  5.0: '5th quintile',\n",
       "  97.0: 'Not applicable',\n",
       "  98.0: \"Don't Know\",\n",
       "  99.0: 'No Answer'},\n",
       " 'q006': {1.0: 'Much Worse',\n",
       "  2.0: 'A little Worse',\n",
       "  3.0: 'About the same',\n",
       "  4.0: 'A little Better',\n",
       "  5.0: 'Much Better',\n",
       "  98.0: \"Don't know\",\n",
       "  99.0: 'No answer'},\n",
       " 'q098': {1.0: 'Not at all satisfied',\n",
       "  2.0: 'Not very satisfied',\n",
       "  3.0: 'Fairly satisfied',\n",
       "  4.0: 'Very satisfied',\n",
       "  98.0: \"Don't know\",\n",
       "  99.0: 'No answer'},\n",
       " 'q005': {1.0: 'Much worse now',\n",
       "  2.0: 'A little worse now',\n",
       "  3.0: 'About the same',\n",
       "  4.0: 'A little better now',\n",
       "  5.0: 'Much better now',\n",
       "  98.0: \"Don't know\",\n",
       "  99.0: 'No answer'},\n",
       " 'q105': {1.0: 'Much worse',\n",
       "  2.0: 'Somewhat worse',\n",
       "  3.0: 'Much the same',\n",
       "  4.0: 'Somewhat better',\n",
       "  5.0: 'Much better than before',\n",
       "  97.0: 'Not Applicable',\n",
       "  98.0: \"Don't know\",\n",
       "  99.0: 'No answer'},\n",
       " 'q106': {1.0: 'Much worse',\n",
       "  2.0: 'Somewhat worse',\n",
       "  3.0: 'Much the same',\n",
       "  4.0: 'Somewhat better',\n",
       "  5.0: 'Much better than before',\n",
       "  97.0: 'Not Applicable',\n",
       "  98.0: \"Don't know\",\n",
       "  99.0: 'No answer'},\n",
       " 'q121': {1.0: 'Strongly agree',\n",
       "  2.0: 'Somewhat agree',\n",
       "  3.0: 'Somewhat disagree',\n",
       "  4.0: 'Strongly disagree',\n",
       "  98.0: \"Don't know\",\n",
       "  99.0: 'No answer'},\n",
       " 'q123': {1.0: 'Strongly agree',\n",
       "  2.0: 'Somewhat agree',\n",
       "  3.0: 'Somewhat disagree',\n",
       "  4.0: 'Strongly disagree',\n",
       "  98.0: \"Don't know\",\n",
       "  99.0: 'No answer'},\n",
       " 'q127': {1.0: 'Strongly agree',\n",
       "  2.0: 'Somewhat agree',\n",
       "  3.0: 'Somewhat disagree',\n",
       "  4.0: 'Strongly disagree',\n",
       "  98.0: \"Don't know\",\n",
       "  99.0: 'No answer'},\n",
       " 'q128': {1.0: 'Strongly agree',\n",
       "  2.0: 'Somewhat agree',\n",
       "  3.0: 'Somewhat disagree',\n",
       "  4.0: 'Strongly disagree',\n",
       "  98.0: \"Don't know\",\n",
       "  99.0: 'No answer'},\n",
       " 'q008': {0.0: 'Not sure',\n",
       "  1.0: 'None at all',\n",
       "  2.0: 'Not very much trust',\n",
       "  3.0: 'Quite a lot of trust',\n",
       "  4.0: 'A great deal of trust',\n",
       "  98.0: \"Don't know\",\n",
       "  99.0: 'No Answer'},\n",
       " 'q009': {0.0: 'Not sure',\n",
       "  1.0: 'None at all',\n",
       "  2.0: 'Not very much trust',\n",
       "  3.0: 'Quite a lot of trust',\n",
       "  4.0: 'A great deal of trust',\n",
       "  98.0: \"Don't know\",\n",
       "  99.0: 'No Answer'},\n",
       " 'q010': {0.0: 'Not sure',\n",
       "  1.0: 'None at all',\n",
       "  2.0: 'Not very much trust',\n",
       "  3.0: 'Quite a lot of trust',\n",
       "  4.0: 'A great deal of trust',\n",
       "  98.0: \"Don't know\",\n",
       "  99.0: 'No Answer'}}"
      ]
     },
     "execution_count": 6,
     "metadata": {},
     "output_type": "execute_result"
    }
   ],
   "source": [
    "col_need = ['se009', 'q006', 'q098', 'q005', 'q105', 'q106', 'q121', 'q123', 'q127', 'q128', 'q008', 'q009', 'q010']\n",
    "#meta.variable_value_labels[col_need]\n",
    "a_subset = {key: meta.variable_value_labels[key] for key in col_need}\n",
    "a_subset"
   ]
  },
  {
   "cell_type": "code",
   "execution_count": 7,
   "id": "92482537",
   "metadata": {},
   "outputs": [
    {
     "data": {
      "text/plain": [
       "{'country': 'Country',\n",
       " 'se002': 'gender',\n",
       " 'se004': 'marital status',\n",
       " 'se005': 'education',\n",
       " 'se009': 'annual income: national quintiles',\n",
       " 'se003a': 'actual age',\n",
       " 'q007': 'How much trust do you have in the courts?',\n",
       " 'q008': 'How much trust do you have in the national government?',\n",
       " 'q009': 'How much trust do you have in political parties?',\n",
       " 'q010': 'How much trust do you have in Parliament?',\n",
       " 'q006': 'What do you think the economic situation of your family will be five years from now?',\n",
       " 'q098': 'Satisfaction with the way democracy works in our country?',\n",
       " 'q128': 'The nation is run by a powerful few and ordinary citizens cannot do much about it',\n",
       " 'q005': 'How would you compare the current economic condition of your family with what it was five years ago?',\n",
       " 'q027': 'Have you participated in last election?',\n",
       " 'q028': 'Which party did you vote for?',\n",
       " 'q105': 'Everyone is free to say what they think- is better than before?',\n",
       " 'q106': 'Everyone is treated equally by the government- is better than before?',\n",
       " 'q121': 'We should get rid of parliament and elections and have a strong leader decide things',\n",
       " 'q123': 'The military should come in to govern the country',\n",
       " 'q127': \"Politics and government seems so complicated that a person like me can't really understand what is going on\"}"
      ]
     },
     "execution_count": 7,
     "metadata": {},
     "output_type": "execute_result"
    }
   ],
   "source": [
    "#meta.variable_value_labels[col_need]\n",
    "b_subset = {key: meta.column_names_to_labels[key] for key in merged_data.columns}\n",
    "b_subset"
   ]
  },
  {
   "cell_type": "code",
   "execution_count": 8,
   "id": "b6efaa3f",
   "metadata": {},
   "outputs": [],
   "source": [
    "# merged_data.describe()"
   ]
  },
  {
   "cell_type": "code",
   "execution_count": 9,
   "id": "41ddf384",
   "metadata": {},
   "outputs": [],
   "source": [
    "# merged_data.q007.value_counts()"
   ]
  },
  {
   "cell_type": "code",
   "execution_count": 10,
   "id": "6075b852",
   "metadata": {},
   "outputs": [
    {
     "data": {
      "text/plain": [
       "country           0\n",
       "se002         12368\n",
       "se004      10154431\n",
       "se005         68666\n",
       "se009       1310033\n",
       "se003a      1350731\n",
       "q007        2481561\n",
       "q008        1300395\n",
       "q009        1130763\n",
       "q010        1771056\n",
       "q006        2710052\n",
       "q098        2065936\n",
       "q128        2689416\n",
       "q005         133284\n",
       "q027        4760657\n",
       "q028       14673905\n",
       "q105        1838917\n",
       "q106        2347510\n",
       "q121       10639269\n",
       "q123        2048706\n",
       "q127        2278003\n",
       "dtype: int64"
      ]
     },
     "execution_count": 10,
     "metadata": {},
     "output_type": "execute_result"
    }
   ],
   "source": [
    "merged_data.isna().sum()\n",
    "# merged_data.q007.value_counts()"
   ]
  },
  {
   "cell_type": "code",
   "execution_count": 11,
   "id": "e9b4da06",
   "metadata": {},
   "outputs": [
    {
     "name": "stdout",
     "output_type": "stream",
     "text": [
      "4.0    10131489\n",
      "8.0     2390116\n",
      "3.0     2250000\n",
      "1.0     2010724\n",
      "7.0     2002225\n",
      "6.0     1440000\n",
      "5.0     1308736\n",
      "2.0      657721\n",
      "Name: country, dtype: int64\n",
      "2.0    11315404\n",
      "1.0    10863239\n",
      "Name: se002, dtype: int64\n",
      "1.0    8497094\n",
      "6.0    2122717\n",
      "3.0     623210\n",
      "2.0     532923\n",
      "5.0     163046\n",
      "4.0      97590\n",
      "Name: se004, dtype: int64\n",
      "7.0     3403228\n",
      "3.0     3267894\n",
      "4.0     3182182\n",
      "1.0     3132401\n",
      "5.0     2881906\n",
      "8.0     2121787\n",
      "9.0     1873453\n",
      "2.0     1508426\n",
      "6.0      550719\n",
      "10.0     200349\n",
      "Name: se005, dtype: int64\n",
      "5.0    6093900\n",
      "2.0    4234562\n",
      "1.0    4123724\n",
      "3.0    3263022\n",
      "4.0    3165770\n",
      "Name: se009, dtype: int64\n",
      "39.0     667027\n",
      "40.0     649421\n",
      "37.0     643817\n",
      "36.0     581571\n",
      "45.0     580685\n",
      "          ...  \n",
      "90.0       7565\n",
      "86.0       7081\n",
      "89.0       4030\n",
      "93.0       1418\n",
      "109.0      1200\n",
      "Name: se003a, Length: 75, dtype: int64\n",
      "3.0    7440957\n",
      "4.0    6134347\n",
      "2.0    4786306\n",
      "1.0    1347840\n",
      "Name: q007, dtype: int64\n",
      "4.0    9768454\n",
      "2.0    4944759\n",
      "3.0    4870673\n",
      "1.0    1306730\n",
      "Name: q008, dtype: int64\n",
      "4.0    9566058\n",
      "2.0    6009161\n",
      "3.0    3205069\n",
      "1.0    2279960\n",
      "Name: q009, dtype: int64\n",
      "4.0    9089035\n",
      "2.0    5218307\n",
      "3.0    3925663\n",
      "1.0    2186950\n",
      "Name: q010, dtype: int64\n",
      "4.0    8797215\n",
      "3.0    5640919\n",
      "2.0    2259431\n",
      "5.0    2242443\n",
      "1.0     540951\n",
      "Name: q006, dtype: int64\n",
      "3.0    11481534\n",
      "2.0     5235324\n",
      "4.0     2656754\n",
      "1.0      751463\n",
      "Name: q098, dtype: int64\n",
      "2.0    8669866\n",
      "3.0    7272518\n",
      "1.0    1969188\n",
      "4.0    1590023\n",
      "Name: q128, dtype: int64\n",
      "4.0    7643476\n",
      "3.0    6014953\n",
      "2.0    5201697\n",
      "5.0    1800464\n",
      "1.0    1397137\n",
      "Name: q005, dtype: int64\n",
      "2.0    14674515\n",
      "1.0     2755839\n",
      "Name: q027, dtype: int64\n",
      "807.0    1184236\n",
      "302.0     994500\n",
      "301.0     757500\n",
      "705.0     640995\n",
      "101.0     633846\n",
      "501.0     609752\n",
      "701.0     481100\n",
      "801.0     476168\n",
      "502.0     411840\n",
      "702.0     257530\n",
      "102.0     243896\n",
      "809.0     100490\n",
      "103.0      86498\n",
      "104.0      76572\n",
      "105.0      73736\n",
      "109.0      69482\n",
      "805.0      68024\n",
      "503.0      67496\n",
      "303.0      52500\n",
      "821.0      47926\n",
      "504.0      44616\n",
      "107.0      32614\n",
      "505.0      32032\n",
      "815.0      26282\n",
      "813.0      13914\n",
      "704.0       7075\n",
      "304.0       6000\n",
      "108.0       5672\n",
      "818.0       4638\n",
      "106.0       4254\n",
      "811.0       3092\n",
      "703.0       2830\n",
      "Name: q028, dtype: int64\n",
      "4.0    11181999\n",
      "5.0     5174586\n",
      "3.0     2854096\n",
      "2.0      943940\n",
      "1.0      197473\n",
      "Name: q105, dtype: int64\n",
      "4.0    8979490\n",
      "3.0    5537957\n",
      "2.0    2743184\n",
      "5.0    1989400\n",
      "1.0     593470\n",
      "Name: q106, dtype: int64\n",
      "4.0    4573427\n",
      "3.0    4466038\n",
      "2.0    1925983\n",
      "1.0     586294\n",
      "Name: q121, dtype: int64\n",
      "3.0    9775677\n",
      "4.0    6943292\n",
      "2.0    2917341\n",
      "1.0     505995\n",
      "Name: q123, dtype: int64\n",
      "2.0    11726039\n",
      "3.0     4685716\n",
      "1.0     2431764\n",
      "4.0     1069489\n",
      "Name: q127, dtype: int64\n"
     ]
    }
   ],
   "source": [
    "for i in merged_data.columns: \n",
    "    print(merged_data[i].value_counts()) "
   ]
  },
  {
   "cell_type": "code",
   "execution_count": 12,
   "id": "8f5cfc10",
   "metadata": {},
   "outputs": [],
   "source": [
    "from pandas.api.types import CategoricalDtype\n",
    "cat1 = CategoricalDtype(categories=[1.0, 2.0, 3.0, 4.0, 5.0], ordered=True)\n",
    "cat2 = CategoricalDtype(categories=[1.0, 2.0, 3.0, 4.0], ordered=True)\n",
    "for column in merged_data.columns:\n",
    "  if column != \"se003a\":\n",
    "    if column == \"q006\" or column == \"q005\" or column == \"q105\" or column == \"q106\" or column == \"se009\":\n",
    "      merged_data[column] = merged_data[column].astype(cat1)\n",
    "    if column == \"q098\" or column == \"q123\" or column == \"q121\" or column == \"q127\" \\\n",
    "        or column == \"q128\" or column == \"q008\" or column == \"q009\" or column == \"q010\":\n",
    "            merged_data[column] = merged_data[column].astype(cat2)\n",
    "    merged_data[column] = merged_data[column].astype(\"category\")"
   ]
  },
  {
   "cell_type": "code",
   "execution_count": 13,
   "id": "8e9c80a7",
   "metadata": {},
   "outputs": [],
   "source": [
    "merged_data_copy = merged_data.drop(['se004', 'q028', 'q121'], axis=1)"
   ]
  },
  {
   "cell_type": "code",
   "execution_count": 14,
   "id": "8e4ab430",
   "metadata": {},
   "outputs": [],
   "source": [
    "merged_data_sample = merged_data.groupby(\"country\")\\\n",
    "    .sample(n = 1000, replace = True, random_state = 0).reset_index(drop=True)"
   ]
  },
  {
   "cell_type": "code",
   "execution_count": 15,
   "id": "b726aad8",
   "metadata": {},
   "outputs": [],
   "source": [
    "merged_data_copy = merged_data_sample.apply(lambda x:x.fillna(x.value_counts().index[0]))"
   ]
  },
  {
   "cell_type": "code",
   "execution_count": 16,
   "id": "692ef4a6",
   "metadata": {},
   "outputs": [],
   "source": [
    "# merged_data_copy.to_csv('merged_data.csv', index=False)"
   ]
  },
  {
   "cell_type": "code",
   "execution_count": 17,
   "id": "bf91a86a",
   "metadata": {},
   "outputs": [
    {
     "data": {
      "text/plain": [
       "country    0\n",
       "se002      0\n",
       "se004      0\n",
       "se005      0\n",
       "se009      0\n",
       "se003a     0\n",
       "q007       0\n",
       "q008       0\n",
       "q009       0\n",
       "q010       0\n",
       "q006       0\n",
       "q098       0\n",
       "q128       0\n",
       "q005       0\n",
       "q027       0\n",
       "q028       0\n",
       "q105       0\n",
       "q106       0\n",
       "q121       0\n",
       "q123       0\n",
       "q127       0\n",
       "dtype: int64"
      ]
     },
     "execution_count": 17,
     "metadata": {},
     "output_type": "execute_result"
    }
   ],
   "source": [
    "merged_data_copy.isna().sum()"
   ]
  },
  {
   "cell_type": "code",
   "execution_count": 18,
   "id": "274b138d",
   "metadata": {},
   "outputs": [
    {
     "data": {
      "text/plain": [
       "(array([ 721.,  969., 2537., 1113., 1013.,  644.,  609.,  307.,   73.,\n",
       "          14.]),\n",
       " array([18. , 25.5, 33. , 40.5, 48. , 55.5, 63. , 70.5, 78. , 85.5, 93. ]),\n",
       " <BarContainer object of 10 artists>)"
      ]
     },
     "execution_count": 18,
     "metadata": {},
     "output_type": "execute_result"
    },
    {
     "data": {
      "image/png": "[encoded data removed]",
      "text/plain": [
       "<Figure size 432x288 with 1 Axes>"
      ]
     },
     "metadata": {
      "needs_background": "light"
     },
     "output_type": "display_data"
    }
   ],
   "source": [
    "plt.pyplot.hist(merged_data_copy['se003a'])"
   ]
  },
  {
   "cell_type": "code",
   "execution_count": 19,
   "id": "6ed88e7a",
   "metadata": {},
   "outputs": [
    {
     "data": {
      "image/png": "[encoded data removed]",
      "text/plain": [
       "<Figure size 432x288 with 1 Axes>"
      ]
     },
     "metadata": {
      "needs_background": "light"
     },
     "output_type": "display_data"
    }
   ],
   "source": [
    "from matplotlib.patches import Patch\n",
    "import warnings\n",
    "warnings.filterwarnings('ignore')\n",
    "fig, ax = plt.pyplot.subplots()\n",
    "\n",
    "sns.boxplot(x=\"se003a\", y=\"q098\", data=merged_data_copy, orient=\"h\", ax=ax)\n",
    "\n",
    "ax.get_yaxis().set_visible(False)\n",
    "\n",
    "fig.suptitle(\"Age vs. Democracy\")\n",
    "\n",
    "color_patches = [\n",
    "    Patch(facecolor=\"blue\", label=\"1.0 satisfied\"),\n",
    "    Patch(facecolor=\"orange\", label=\"2.0 not very satisfied\"),\n",
    "    Patch(facecolor=\"yellow\", label=\"3.0 fairly satisfied\"),\n",
    "    Patch(facecolor=\"green\", label=\"4.0 very satisfied\"),\n",
    "    Patch(facecolor=\"red\", label=\"98.0 Don't know\"),\n",
    "    Patch(facecolor=\"grey\", label=\"99.0 No Answer\")\n",
    "]\n",
    "ax.legend(handles=color_patches);"
   ]
  },
  {
   "cell_type": "code",
   "execution_count": 20,
   "id": "777fe372",
   "metadata": {},
   "outputs": [
    {
     "data": {
      "text/plain": [
       "Text(0.5, 0.98, 'gender vs. Democracy')"
      ]
     },
     "execution_count": 20,
     "metadata": {},
     "output_type": "execute_result"
    },
    {
     "data": {
      "image/png": "[encoded data removed]",
      "text/plain": [
       "<Figure size 771.875x360 with 2 Axes>"
      ]
     },
     "metadata": {
      "needs_background": "light"
     },
     "output_type": "display_data"
    }
   ],
   "source": [
    "sns.catplot(col=\"se002\", hue=\"q098\", x=\"country\", data=merged_data_copy, kind=\"count\", ax=ax)\n",
    "fig.suptitle(\"gender vs. Democracy\")"
   ]
  },
  {
   "cell_type": "code",
   "execution_count": 21,
   "id": "7ab9454b",
   "metadata": {},
   "outputs": [
    {
     "data": {
      "text/plain": [
       "Text(0.5, 0.98, 'Education vs. Democracy')"
      ]
     },
     "execution_count": 21,
     "metadata": {},
     "output_type": "execute_result"
    },
    {
     "data": {
      "image/png": "[encoded data removed]",
      "text/plain": [
       "<Figure size 3651.88x360 with 10 Axes>"
      ]
     },
     "metadata": {
      "needs_background": "light"
     },
     "output_type": "display_data"
    }
   ],
   "source": [
    "sns.catplot(col=\"se005\", hue=\"q098\", x=\"country\", data=merged_data_copy, kind=\"count\", ax=ax)\n",
    "fig.suptitle(\"Education vs. Democracy\")"
   ]
  },
  {
   "cell_type": "code",
   "execution_count": 22,
   "id": "be5bbb4a",
   "metadata": {},
   "outputs": [
    {
     "data": {
      "text/plain": [
       "Text(0.5, 0.98, 'Income vs. Democracy')"
      ]
     },
     "execution_count": 22,
     "metadata": {},
     "output_type": "execute_result"
    },
    {
     "data": {
      "image/png": "[encoded data removed]",
      "text/plain": [
       "<Figure size 1851.88x360 with 5 Axes>"
      ]
     },
     "metadata": {
      "needs_background": "light"
     },
     "output_type": "display_data"
    }
   ],
   "source": [
    "sns.catplot(col=\"se009\", hue=\"q098\", x=\"country\", data=merged_data_copy, kind=\"count\", ax=ax)\n",
    "fig.suptitle(\"Income vs. Democracy\")"
   ]
  },
  {
   "cell_type": "code",
   "execution_count": 23,
   "id": "baf0e216",
   "metadata": {},
   "outputs": [
    {
     "data": {
      "text/plain": [
       "Text(0.5, 0.98, 'Voted last election vs. Democracy')"
      ]
     },
     "execution_count": 23,
     "metadata": {},
     "output_type": "execute_result"
    },
    {
     "data": {
      "image/png": "[encoded data removed]",
      "text/plain": [
       "<Figure size 771.875x360 with 2 Axes>"
      ]
     },
     "metadata": {
      "needs_background": "light"
     },
     "output_type": "display_data"
    }
   ],
   "source": [
    "sns.catplot(col=\"q027\", hue=\"q098\", x=\"country\", data=merged_data_copy, kind=\"count\", ax=ax)\n",
    "fig.suptitle(\"Voted last election vs. Democracy\")"
   ]
  },
  {
   "cell_type": "code",
   "execution_count": 24,
   "id": "4d5366ec",
   "metadata": {},
   "outputs": [
    {
     "data": {
      "text/plain": [
       "Text(0.5, 0.98, 'Military vs. Democracy')"
      ]
     },
     "execution_count": 24,
     "metadata": {},
     "output_type": "execute_result"
    },
    {
     "data": {
      "image/png": "[encoded data removed]",
      "text/plain": [
       "<Figure size 1491.88x360 with 4 Axes>"
      ]
     },
     "metadata": {
      "needs_background": "light"
     },
     "output_type": "display_data"
    }
   ],
   "source": [
    "sns.catplot(col=\"q010\", hue=\"q098\", x=\"country\", data=merged_data_copy, kind=\"count\", ax=ax)\n",
    "fig.suptitle(\"Military vs. Democracy\")"
   ]
  },
  {
   "cell_type": "code",
   "execution_count": 25,
   "id": "573e255d",
   "metadata": {},
   "outputs": [
    {
     "data": {
      "text/plain": [
       "Text(0.5, 0.98, 'Courts vs. Democracy')"
      ]
     },
     "execution_count": 25,
     "metadata": {},
     "output_type": "execute_result"
    },
    {
     "data": {
      "image/png": "[encoded data removed]",
      "text/plain": [
       "<Figure size 1491.88x360 with 4 Axes>"
      ]
     },
     "metadata": {
      "needs_background": "light"
     },
     "output_type": "display_data"
    }
   ],
   "source": [
    "sns.catplot(col=\"q007\", hue=\"q098\", x=\"country\", data=merged_data_copy, kind=\"count\", ax=ax)\n",
    "fig.suptitle(\"Courts vs. Democracy\")"
   ]
  },
  {
   "cell_type": "code",
   "execution_count": 26,
   "id": "9aab1433",
   "metadata": {},
   "outputs": [
    {
     "data": {
      "text/plain": [
       "Text(0.5, 0.98, \"Gov't vs. Democracy\")"
      ]
     },
     "execution_count": 26,
     "metadata": {},
     "output_type": "execute_result"
    },
    {
     "data": {
      "image/png": "[encoded data removed]",
      "text/plain": [
       "<Figure size 1491.88x360 with 4 Axes>"
      ]
     },
     "metadata": {
      "needs_background": "light"
     },
     "output_type": "display_data"
    }
   ],
   "source": [
    "sns.catplot(col=\"q008\", hue=\"q098\", x=\"country\", data=merged_data_copy, kind=\"count\", ax=ax)\n",
    "fig.suptitle(\"Gov't vs. Democracy\")"
   ]
  },
  {
   "cell_type": "code",
   "execution_count": 27,
   "id": "ff7aa8ed",
   "metadata": {},
   "outputs": [
    {
     "data": {
      "text/plain": [
       "Text(0.5, 0.98, 'Civil Service vs. Democracy')"
      ]
     },
     "execution_count": 27,
     "metadata": {},
     "output_type": "execute_result"
    },
    {
     "data": {
      "image/png": "[encoded data removed]",
      "text/plain": [
       "<Figure size 1491.88x360 with 4 Axes>"
      ]
     },
     "metadata": {
      "needs_background": "light"
     },
     "output_type": "display_data"
    }
   ],
   "source": [
    "sns.catplot(col=\"q009\", hue=\"q098\", x=\"country\", data=merged_data_copy, kind=\"count\", ax=ax)\n",
    "fig.suptitle(\"Civil Service vs. Democracy\")"
   ]
  },
  {
   "cell_type": "code",
   "execution_count": 28,
   "id": "afa308f7",
   "metadata": {},
   "outputs": [
    {
     "data": {
      "text/plain": [
       "Text(0.5, 0.98, 'Economic situation vs. Democracy')"
      ]
     },
     "execution_count": 28,
     "metadata": {},
     "output_type": "execute_result"
    },
    {
     "data": {
      "image/png": "[encoded data removed]",
      "text/plain": [
       "<Figure size 1851.88x360 with 5 Axes>"
      ]
     },
     "metadata": {
      "needs_background": "light"
     },
     "output_type": "display_data"
    }
   ],
   "source": [
    "sns.catplot(col=\"q006\", hue=\"q098\", x=\"country\", data=merged_data_copy, kind=\"count\", ax=ax)\n",
    "fig.suptitle(\"Economic situation vs. Democracy\")"
   ]
  },
  {
   "cell_type": "code",
   "execution_count": 29,
   "id": "4517d2c3",
   "metadata": {},
   "outputs": [
    {
     "data": {
      "text/plain": [
       "Text(0.5, 0.98, 'Economic Condition vs. Democracy')"
      ]
     },
     "execution_count": 29,
     "metadata": {},
     "output_type": "execute_result"
    },
    {
     "data": {
      "image/png": "[encoded data removed]",
      "text/plain": [
       "<Figure size 1851.88x360 with 5 Axes>"
      ]
     },
     "metadata": {
      "needs_background": "light"
     },
     "output_type": "display_data"
    }
   ],
   "source": [
    "sns.catplot(col=\"q005\", hue=\"q098\", x=\"country\", data=merged_data_copy, kind=\"count\", ax=ax)\n",
    "fig.suptitle(\"Economic Condition vs. Democracy\")"
   ]
  },
  {
   "cell_type": "code",
   "execution_count": 30,
   "id": "b39f7d22",
   "metadata": {},
   "outputs": [
    {
     "data": {
      "text/plain": [
       "Text(0.5, 0.98, 'Trust vs. Democracy')"
      ]
     },
     "execution_count": 30,
     "metadata": {},
     "output_type": "execute_result"
    },
    {
     "data": {
      "image/png": "[encoded data removed]",
      "text/plain": [
       "<Figure size 1491.88x360 with 4 Axes>"
      ]
     },
     "metadata": {
      "needs_background": "light"
     },
     "output_type": "display_data"
    }
   ],
   "source": [
    "sns.catplot(col=\"q128\", hue=\"q098\", x=\"country\", data=merged_data_copy, kind=\"count\", ax=ax)\n",
    "fig.suptitle(\"Trust vs. Democracy\")"
   ]
  },
  {
   "cell_type": "code",
   "execution_count": 31,
   "id": "6b1b94e7",
   "metadata": {},
   "outputs": [
    {
     "data": {
      "text/plain": [
       "Text(0.5, 0.98, 'Speech vs. Democracy')"
      ]
     },
     "execution_count": 31,
     "metadata": {},
     "output_type": "execute_result"
    },
    {
     "data": {
      "image/png": "[encoded data removed]",
      "text/plain": [
       "<Figure size 1851.88x360 with 5 Axes>"
      ]
     },
     "metadata": {
      "needs_background": "light"
     },
     "output_type": "display_data"
    }
   ],
   "source": [
    "sns.catplot(col=\"q105\", hue=\"q098\", x=\"country\", data=merged_data_copy, kind=\"count\", ax=ax)\n",
    "fig.suptitle(\"Speech vs. Democracy\")"
   ]
  },
  {
   "cell_type": "code",
   "execution_count": 32,
   "id": "debfe231",
   "metadata": {},
   "outputs": [
    {
     "data": {
      "text/plain": [
       "Text(0.5, 0.98, 'Treatment vs. Democracy')"
      ]
     },
     "execution_count": 32,
     "metadata": {},
     "output_type": "execute_result"
    },
    {
     "data": {
      "image/png": "[encoded data removed]",
      "text/plain": [
       "<Figure size 1851.88x360 with 5 Axes>"
      ]
     },
     "metadata": {
      "needs_background": "light"
     },
     "output_type": "display_data"
    }
   ],
   "source": [
    "sns.catplot(col=\"q106\", hue=\"q098\", x=\"country\", data=merged_data_copy, kind=\"count\", ax=ax)\n",
    "fig.suptitle(\"Treatment vs. Democracy\")"
   ]
  },
  {
   "cell_type": "code",
   "execution_count": 33,
   "id": "eac5ae1a",
   "metadata": {},
   "outputs": [
    {
     "data": {
      "text/plain": [
       "Text(0.5, 0.98, 'Military Govern vs. Democracy')"
      ]
     },
     "execution_count": 33,
     "metadata": {},
     "output_type": "execute_result"
    },
    {
     "data": {
      "image/png": "[encoded data removed]",
      "text/plain": [
       "<Figure size 1491.88x360 with 4 Axes>"
      ]
     },
     "metadata": {
      "needs_background": "light"
     },
     "output_type": "display_data"
    }
   ],
   "source": [
    "sns.catplot(col=\"q123\", hue=\"q098\", x=\"country\", data=merged_data_copy, kind=\"count\", ax=ax)\n",
    "fig.suptitle(\"Military Govern vs. Democracy\")"
   ]
  },
  {
   "cell_type": "code",
   "execution_count": 34,
   "id": "8150d166",
   "metadata": {},
   "outputs": [
    {
     "data": {
      "text/plain": [
       "Text(0.5, 0.98, 'Complicated Politics vs. Democracy')"
      ]
     },
     "execution_count": 34,
     "metadata": {},
     "output_type": "execute_result"
    },
    {
     "data": {
      "image/png": "[encoded data removed]",
      "text/plain": [
       "<Figure size 1491.88x360 with 4 Axes>"
      ]
     },
     "metadata": {
      "needs_background": "light"
     },
     "output_type": "display_data"
    }
   ],
   "source": [
    "sns.catplot(col=\"q127\", hue=\"q098\", x=\"country\", data=merged_data_copy, kind=\"count\", ax=ax)\n",
    "fig.suptitle(\"Complicated Politics vs. Democracy\")"
   ]
  },
  {
   "cell_type": "markdown",
   "id": "4af1b39d",
   "metadata": {},
   "source": [
    "### Model Building"
   ]
  },
  {
   "cell_type": "code",
   "execution_count": 56,
   "id": "92ce2ac4",
   "metadata": {},
   "outputs": [],
   "source": [
    "import scipy.stats as stats\n",
    "from statsmodels.miscmodels.ordinal_model import OrderedModel\n",
    "from sklearn.model_selection import train_test_split"
   ]
  },
  {
   "cell_type": "code",
   "execution_count": 57,
   "id": "b96ae62f",
   "metadata": {},
   "outputs": [],
   "source": [
    "train, test = train_test_split(merged_data_copy, test_size=0.25, random_state=0, shuffle=False)"
   ]
  },
  {
   "cell_type": "code",
   "execution_count": 58,
   "id": "ca06848c",
   "metadata": {},
   "outputs": [],
   "source": [
    "model = OrderedModel(train['q098'], \n",
    "                     train[['se002', 'se005', 'se009', 'se003a', 'country', 'q007', 'q008', \n",
    "                                      'q009', 'q010', 'q006', 'q128', 'q005', 'q027', 'q105', 'q106', \n",
    "                                       'q123', 'q127']], \n",
    "                     distr='probit')"
   ]
  },
  {
   "cell_type": "code",
   "execution_count": 59,
   "id": "4f2f5f90",
   "metadata": {},
   "outputs": [
    {
     "name": "stdout",
     "output_type": "stream",
     "text": [
      "Optimization terminated successfully.\n",
      "         Current function value: 0.941084\n",
      "         Iterations: 31\n",
      "         Function evaluations: 36\n",
      "         Gradient evaluations: 36\n"
     ]
    },
    {
     "data": {
      "text/html": [
       "<table class=\"simpletable\">\n",
       "<caption>OrderedModel Results</caption>\n",
       "<tr>\n",
       "  <th>Dep. Variable:</th>           <td>q098</td>        <th>  Log-Likelihood:    </th> <td> -5646.5</td> \n",
       "</tr>\n",
       "<tr>\n",
       "  <th>Model:</th>               <td>OrderedModel</td>    <th>  AIC:               </th> <td>1.133e+04</td>\n",
       "</tr>\n",
       "<tr>\n",
       "  <th>Method:</th>           <td>Maximum Likelihood</td> <th>  BIC:               </th> <td>1.147e+04</td>\n",
       "</tr>\n",
       "<tr>\n",
       "  <th>Date:</th>              <td>Sat, 06 Nov 2021</td>  <th>                     </th>     <td> </td>    \n",
       "</tr>\n",
       "<tr>\n",
       "  <th>Time:</th>                  <td>17:46:41</td>      <th>                     </th>     <td> </td>    \n",
       "</tr>\n",
       "<tr>\n",
       "  <th>No. Observations:</th>       <td>  6000</td>       <th>                     </th>     <td> </td>    \n",
       "</tr>\n",
       "<tr>\n",
       "  <th>Df Residuals:</th>           <td>  5980</td>       <th>                     </th>     <td> </td>    \n",
       "</tr>\n",
       "<tr>\n",
       "  <th>Df Model:</th>               <td>    20</td>       <th>                     </th>     <td> </td>    \n",
       "</tr>\n",
       "</table>\n",
       "<table class=\"simpletable\">\n",
       "<tr>\n",
       "     <td></td>        <th>coef</th>     <th>std err</th>      <th>z</th>      <th>P>|z|</th>  <th>[0.025</th>    <th>0.975]</th>  \n",
       "</tr>\n",
       "<tr>\n",
       "  <th>se002</th>   <td>   -0.0213</td> <td>    0.030</td> <td>   -0.714</td> <td> 0.475</td> <td>   -0.080</td> <td>    0.037</td>\n",
       "</tr>\n",
       "<tr>\n",
       "  <th>se005</th>   <td>   -0.0225</td> <td>    0.007</td> <td>   -3.018</td> <td> 0.003</td> <td>   -0.037</td> <td>   -0.008</td>\n",
       "</tr>\n",
       "<tr>\n",
       "  <th>se009</th>   <td>   -0.0316</td> <td>    0.012</td> <td>   -2.727</td> <td> 0.006</td> <td>   -0.054</td> <td>   -0.009</td>\n",
       "</tr>\n",
       "<tr>\n",
       "  <th>se003a</th>  <td>    0.0009</td> <td>    0.001</td> <td>    0.707</td> <td> 0.480</td> <td>   -0.002</td> <td>    0.003</td>\n",
       "</tr>\n",
       "<tr>\n",
       "  <th>country</th> <td>   -0.0114</td> <td>    0.011</td> <td>   -1.066</td> <td> 0.286</td> <td>   -0.032</td> <td>    0.010</td>\n",
       "</tr>\n",
       "<tr>\n",
       "  <th>q007</th>    <td>    0.1405</td> <td>    0.021</td> <td>    6.546</td> <td> 0.000</td> <td>    0.098</td> <td>    0.183</td>\n",
       "</tr>\n",
       "<tr>\n",
       "  <th>q008</th>    <td>    0.0932</td> <td>    0.025</td> <td>    3.775</td> <td> 0.000</td> <td>    0.045</td> <td>    0.142</td>\n",
       "</tr>\n",
       "<tr>\n",
       "  <th>q009</th>    <td>    0.0545</td> <td>    0.024</td> <td>    2.292</td> <td> 0.022</td> <td>    0.008</td> <td>    0.101</td>\n",
       "</tr>\n",
       "<tr>\n",
       "  <th>q010</th>    <td>    0.1458</td> <td>    0.024</td> <td>    6.057</td> <td> 0.000</td> <td>    0.099</td> <td>    0.193</td>\n",
       "</tr>\n",
       "<tr>\n",
       "  <th>q006</th>    <td>    0.0941</td> <td>    0.018</td> <td>    5.354</td> <td> 0.000</td> <td>    0.060</td> <td>    0.129</td>\n",
       "</tr>\n",
       "<tr>\n",
       "  <th>q128</th>    <td>    0.0440</td> <td>    0.019</td> <td>    2.362</td> <td> 0.018</td> <td>    0.007</td> <td>    0.080</td>\n",
       "</tr>\n",
       "<tr>\n",
       "  <th>q005</th>    <td>    0.0626</td> <td>    0.017</td> <td>    3.730</td> <td> 0.000</td> <td>    0.030</td> <td>    0.096</td>\n",
       "</tr>\n",
       "<tr>\n",
       "  <th>q027</th>    <td>    0.0782</td> <td>    0.039</td> <td>    1.982</td> <td> 0.048</td> <td>    0.001</td> <td>    0.156</td>\n",
       "</tr>\n",
       "<tr>\n",
       "  <th>q105</th>    <td>    0.0822</td> <td>    0.018</td> <td>    4.612</td> <td> 0.000</td> <td>    0.047</td> <td>    0.117</td>\n",
       "</tr>\n",
       "<tr>\n",
       "  <th>q106</th>    <td>    0.1471</td> <td>    0.017</td> <td>    8.537</td> <td> 0.000</td> <td>    0.113</td> <td>    0.181</td>\n",
       "</tr>\n",
       "<tr>\n",
       "  <th>q123</th>    <td>    0.0384</td> <td>    0.020</td> <td>    1.880</td> <td> 0.060</td> <td>   -0.002</td> <td>    0.078</td>\n",
       "</tr>\n",
       "<tr>\n",
       "  <th>q127</th>    <td>   -0.0378</td> <td>    0.020</td> <td>   -1.932</td> <td> 0.053</td> <td>   -0.076</td> <td>    0.001</td>\n",
       "</tr>\n",
       "<tr>\n",
       "  <th>1.0/2.0</th> <td>    0.7122</td> <td>    0.173</td> <td>    4.117</td> <td> 0.000</td> <td>    0.373</td> <td>    1.051</td>\n",
       "</tr>\n",
       "<tr>\n",
       "  <th>2.0/3.0</th> <td>    0.2829</td> <td>    0.022</td> <td>   13.156</td> <td> 0.000</td> <td>    0.241</td> <td>    0.325</td>\n",
       "</tr>\n",
       "<tr>\n",
       "  <th>3.0/4.0</th> <td>    0.7286</td> <td>    0.015</td> <td>   49.646</td> <td> 0.000</td> <td>    0.700</td> <td>    0.757</td>\n",
       "</tr>\n",
       "</table>"
      ],
      "text/plain": [
       "<class 'statsmodels.iolib.summary.Summary'>\n",
       "\"\"\"\n",
       "                             OrderedModel Results                             \n",
       "==============================================================================\n",
       "Dep. Variable:                   q098   Log-Likelihood:                -5646.5\n",
       "Model:                   OrderedModel   AIC:                         1.133e+04\n",
       "Method:            Maximum Likelihood   BIC:                         1.147e+04\n",
       "Date:                Sat, 06 Nov 2021                                         \n",
       "Time:                        17:46:41                                         \n",
       "No. Observations:                6000                                         \n",
       "Df Residuals:                    5980                                         \n",
       "Df Model:                          20                                         \n",
       "==============================================================================\n",
       "                 coef    std err          z      P>|z|      [0.025      0.975]\n",
       "------------------------------------------------------------------------------\n",
       "se002         -0.0213      0.030     -0.714      0.475      -0.080       0.037\n",
       "se005         -0.0225      0.007     -3.018      0.003      -0.037      -0.008\n",
       "se009         -0.0316      0.012     -2.727      0.006      -0.054      -0.009\n",
       "se003a         0.0009      0.001      0.707      0.480      -0.002       0.003\n",
       "country       -0.0114      0.011     -1.066      0.286      -0.032       0.010\n",
       "q007           0.1405      0.021      6.546      0.000       0.098       0.183\n",
       "q008           0.0932      0.025      3.775      0.000       0.045       0.142\n",
       "q009           0.0545      0.024      2.292      0.022       0.008       0.101\n",
       "q010           0.1458      0.024      6.057      0.000       0.099       0.193\n",
       "q006           0.0941      0.018      5.354      0.000       0.060       0.129\n",
       "q128           0.0440      0.019      2.362      0.018       0.007       0.080\n",
       "q005           0.0626      0.017      3.730      0.000       0.030       0.096\n",
       "q027           0.0782      0.039      1.982      0.048       0.001       0.156\n",
       "q105           0.0822      0.018      4.612      0.000       0.047       0.117\n",
       "q106           0.1471      0.017      8.537      0.000       0.113       0.181\n",
       "q123           0.0384      0.020      1.880      0.060      -0.002       0.078\n",
       "q127          -0.0378      0.020     -1.932      0.053      -0.076       0.001\n",
       "1.0/2.0        0.7122      0.173      4.117      0.000       0.373       1.051\n",
       "2.0/3.0        0.2829      0.022     13.156      0.000       0.241       0.325\n",
       "3.0/4.0        0.7286      0.015     49.646      0.000       0.700       0.757\n",
       "==============================================================================\n",
       "\"\"\""
      ]
     },
     "execution_count": 59,
     "metadata": {},
     "output_type": "execute_result"
    }
   ],
   "source": [
    "res_prob = model.fit(method='bfgs')\n",
    "res_prob.summary()"
   ]
  },
  {
   "cell_type": "code",
   "execution_count": 60,
   "id": "9539c9f2",
   "metadata": {},
   "outputs": [
    {
     "data": {
      "text/plain": [
       "array([[0.0402152 , 0.29659778, 0.61382404, 0.04936298],\n",
       "       [0.0114224 , 0.15988721, 0.69802172, 0.13066867],\n",
       "       [0.03266403, 0.27026698, 0.6372446 , 0.05982439],\n",
       "       ...,\n",
       "       [0.01679155, 0.19563654, 0.6862781 , 0.10129381],\n",
       "       [0.04903307, 0.32269319, 0.58777728, 0.04049645],\n",
       "       [0.01749613, 0.19977852, 0.68434022, 0.09838513]])"
      ]
     },
     "execution_count": 60,
     "metadata": {},
     "output_type": "execute_result"
    }
   ],
   "source": [
    "predicted = res_prob.model.predict(res_prob.params, \n",
    "                                   exog=test[['se002', 'se005', 'se009', 'se003a', \n",
    "                                    'country', 'q007', 'q008', \n",
    "                                      'q009', 'q010', 'q006', 'q128', 'q005', 'q027', 'q105', 'q106', \n",
    "                                       'q123', 'q127']])\n",
    "predicted"
   ]
  },
  {
   "cell_type": "code",
   "execution_count": 61,
   "id": "79dadbb0",
   "metadata": {},
   "outputs": [
    {
     "name": "stdout",
     "output_type": "stream",
     "text": [
      "0.547\n"
     ]
    }
   ],
   "source": [
    "# Accuracy test\n",
    "import numpy as np\n",
    "pred_choice = predicted.argmax(1)\n",
    "print((np.asarray(test['q098'].values.codes)==pred_choice).mean())"
   ]
  }
 ],
 "metadata": {
  "kernelspec": {
   "display_name": "Python 3",
   "language": "python",
   "name": "python3"
  },
  "language_info": {
   "codemirror_mode": {
    "name": "ipython",
    "version": 3
   },
   "file_extension": ".py",
   "mimetype": "text/x-python",
   "name": "python",
   "nbconvert_exporter": "python",
   "pygments_lexer": "ipython3",
   "version": "3.8.5"
  }
 },
 "nbformat": 4,
 "nbformat_minor": 5
}
