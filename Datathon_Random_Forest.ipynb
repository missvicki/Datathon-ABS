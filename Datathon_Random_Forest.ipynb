{
 "cells": [
  {
   "cell_type": "markdown",
   "id": "06200760",
   "metadata": {},
   "source": [
    "### Read libraries"
   ]
  },
  {
   "cell_type": "code",
   "execution_count": 1,
   "id": "d2c097f9",
   "metadata": {},
   "outputs": [],
   "source": [
    "import pyreadstat\n",
    "import pandas as pd\n",
    "import numpy as np\n",
    "import matplotlib.pyplot as plt\n",
    "import seaborn as sns\n",
    "import warnings\n",
    "import sklearn.feature_selection as fs\n",
    "import statsmodels.api as sm\n",
    "import scipy.stats as stats\n",
    "\n",
    "from matplotlib.patches import Patch\n",
    "from pandas.api.types import CategoricalDtype\n",
    "from sklearn.impute import SimpleImputer\n",
    "from sklearn.model_selection import RandomizedSearchCV\n",
    "from sklearn.metrics import confusion_matrix\n",
    "from sklearn.ensemble import RandomForestClassifier\n",
    "from sklearn.metrics import mean_squared_error\n",
    "from sklearn.feature_selection import SelectKBest\n",
    "from sklearn.feature_selection import chi2\n",
    "from sklearn.preprocessing import MinMaxScaler\n",
    "from sklearn.model_selection import train_test_split\n",
    "from statsmodels.miscmodels.ordinal_model import OrderedModel\n",
    "\n",
    "\n",
    "%matplotlib inline\n",
    "warnings.filterwarnings('ignore')"
   ]
  },
  {
   "cell_type": "markdown",
   "id": "876a9c41",
   "metadata": {},
   "source": [
    "### Read the data"
   ]
  },
  {
   "cell_type": "code",
   "execution_count": 2,
   "id": "58fe0f74",
   "metadata": {},
   "outputs": [
    {
     "data": {
      "text/html": [
       "<div>\n",
       "<style scoped>\n",
       "    .dataframe tbody tr th:only-of-type {\n",
       "        vertical-align: middle;\n",
       "    }\n",
       "\n",
       "    .dataframe tbody tr th {\n",
       "        vertical-align: top;\n",
       "    }\n",
       "\n",
       "    .dataframe thead th {\n",
       "        text-align: right;\n",
       "    }\n",
       "</style>\n",
       "<table border=\"1\" class=\"dataframe\">\n",
       "  <thead>\n",
       "    <tr style=\"text-align: right;\">\n",
       "      <th></th>\n",
       "      <th>country</th>\n",
       "      <th>idnumber</th>\n",
       "      <th>level3</th>\n",
       "      <th>yrsurvey</th>\n",
       "      <th>se002</th>\n",
       "      <th>se003</th>\n",
       "      <th>se003a</th>\n",
       "      <th>se004</th>\n",
       "      <th>se004a</th>\n",
       "      <th>se005</th>\n",
       "      <th>...</th>\n",
       "      <th>ir010e</th>\n",
       "      <th>w_jp</th>\n",
       "      <th>w_hk</th>\n",
       "      <th>w_kr</th>\n",
       "      <th>w_cn</th>\n",
       "      <th>w_mo</th>\n",
       "      <th>w_ph</th>\n",
       "      <th>w_tw</th>\n",
       "      <th>w_th</th>\n",
       "      <th>w_all</th>\n",
       "    </tr>\n",
       "  </thead>\n",
       "  <tbody>\n",
       "    <tr>\n",
       "      <th>0</th>\n",
       "      <td>4.0</td>\n",
       "      <td>1.0</td>\n",
       "      <td>1.0</td>\n",
       "      <td>2002.0</td>\n",
       "      <td>1.0</td>\n",
       "      <td>5.0</td>\n",
       "      <td>38.0</td>\n",
       "      <td>NaN</td>\n",
       "      <td>1.0</td>\n",
       "      <td>5.0</td>\n",
       "      <td>...</td>\n",
       "      <td>NaN</td>\n",
       "      <td>NaN</td>\n",
       "      <td>NaN</td>\n",
       "      <td>NaN</td>\n",
       "      <td>0.621390</td>\n",
       "      <td>NaN</td>\n",
       "      <td>NaN</td>\n",
       "      <td>NaN</td>\n",
       "      <td>NaN</td>\n",
       "      <td>0.62</td>\n",
       "    </tr>\n",
       "    <tr>\n",
       "      <th>1</th>\n",
       "      <td>4.0</td>\n",
       "      <td>2.0</td>\n",
       "      <td>1.0</td>\n",
       "      <td>2002.0</td>\n",
       "      <td>2.0</td>\n",
       "      <td>10.0</td>\n",
       "      <td>60.0</td>\n",
       "      <td>NaN</td>\n",
       "      <td>1.0</td>\n",
       "      <td>4.0</td>\n",
       "      <td>...</td>\n",
       "      <td>NaN</td>\n",
       "      <td>NaN</td>\n",
       "      <td>NaN</td>\n",
       "      <td>NaN</td>\n",
       "      <td>0.446785</td>\n",
       "      <td>NaN</td>\n",
       "      <td>NaN</td>\n",
       "      <td>NaN</td>\n",
       "      <td>NaN</td>\n",
       "      <td>0.45</td>\n",
       "    </tr>\n",
       "    <tr>\n",
       "      <th>2</th>\n",
       "      <td>4.0</td>\n",
       "      <td>3.0</td>\n",
       "      <td>1.0</td>\n",
       "      <td>2002.0</td>\n",
       "      <td>2.0</td>\n",
       "      <td>10.0</td>\n",
       "      <td>69.0</td>\n",
       "      <td>NaN</td>\n",
       "      <td>1.0</td>\n",
       "      <td>1.0</td>\n",
       "      <td>...</td>\n",
       "      <td>NaN</td>\n",
       "      <td>NaN</td>\n",
       "      <td>NaN</td>\n",
       "      <td>NaN</td>\n",
       "      <td>0.583658</td>\n",
       "      <td>NaN</td>\n",
       "      <td>NaN</td>\n",
       "      <td>NaN</td>\n",
       "      <td>NaN</td>\n",
       "      <td>0.58</td>\n",
       "    </tr>\n",
       "    <tr>\n",
       "      <th>3</th>\n",
       "      <td>4.0</td>\n",
       "      <td>4.0</td>\n",
       "      <td>1.0</td>\n",
       "      <td>2002.0</td>\n",
       "      <td>2.0</td>\n",
       "      <td>5.0</td>\n",
       "      <td>39.0</td>\n",
       "      <td>NaN</td>\n",
       "      <td>1.0</td>\n",
       "      <td>8.0</td>\n",
       "      <td>...</td>\n",
       "      <td>NaN</td>\n",
       "      <td>NaN</td>\n",
       "      <td>NaN</td>\n",
       "      <td>NaN</td>\n",
       "      <td>0.490000</td>\n",
       "      <td>NaN</td>\n",
       "      <td>NaN</td>\n",
       "      <td>NaN</td>\n",
       "      <td>NaN</td>\n",
       "      <td>0.49</td>\n",
       "    </tr>\n",
       "    <tr>\n",
       "      <th>4</th>\n",
       "      <td>4.0</td>\n",
       "      <td>5.0</td>\n",
       "      <td>1.0</td>\n",
       "      <td>2002.0</td>\n",
       "      <td>1.0</td>\n",
       "      <td>7.0</td>\n",
       "      <td>48.0</td>\n",
       "      <td>NaN</td>\n",
       "      <td>1.0</td>\n",
       "      <td>4.0</td>\n",
       "      <td>...</td>\n",
       "      <td>NaN</td>\n",
       "      <td>NaN</td>\n",
       "      <td>NaN</td>\n",
       "      <td>NaN</td>\n",
       "      <td>0.396647</td>\n",
       "      <td>NaN</td>\n",
       "      <td>NaN</td>\n",
       "      <td>NaN</td>\n",
       "      <td>NaN</td>\n",
       "      <td>0.40</td>\n",
       "    </tr>\n",
       "  </tbody>\n",
       "</table>\n",
       "<p>5 rows × 217 columns</p>\n",
       "</div>"
      ],
      "text/plain": [
       "   country  idnumber  level3  yrsurvey  se002  se003  se003a  se004  se004a  \\\n",
       "0      4.0       1.0     1.0    2002.0    1.0    5.0    38.0    NaN     1.0   \n",
       "1      4.0       2.0     1.0    2002.0    2.0   10.0    60.0    NaN     1.0   \n",
       "2      4.0       3.0     1.0    2002.0    2.0   10.0    69.0    NaN     1.0   \n",
       "3      4.0       4.0     1.0    2002.0    2.0    5.0    39.0    NaN     1.0   \n",
       "4      4.0       5.0     1.0    2002.0    1.0    7.0    48.0    NaN     1.0   \n",
       "\n",
       "   se005  ...  ir010e  w_jp  w_hk  w_kr      w_cn  w_mo  w_ph  w_tw  w_th  \\\n",
       "0    5.0  ...     NaN   NaN   NaN   NaN  0.621390   NaN   NaN   NaN   NaN   \n",
       "1    4.0  ...     NaN   NaN   NaN   NaN  0.446785   NaN   NaN   NaN   NaN   \n",
       "2    1.0  ...     NaN   NaN   NaN   NaN  0.583658   NaN   NaN   NaN   NaN   \n",
       "3    8.0  ...     NaN   NaN   NaN   NaN  0.490000   NaN   NaN   NaN   NaN   \n",
       "4    4.0  ...     NaN   NaN   NaN   NaN  0.396647   NaN   NaN   NaN   NaN   \n",
       "\n",
       "   w_all  \n",
       "0   0.62  \n",
       "1   0.45  \n",
       "2   0.58  \n",
       "3   0.49  \n",
       "4   0.40  \n",
       "\n",
       "[5 rows x 217 columns]"
      ]
     },
     "execution_count": 2,
     "metadata": {},
     "output_type": "execute_result"
    }
   ],
   "source": [
    "df_wave1, meta = pyreadstat.read_sav(\"Wave1_20170906.sav\")\n",
    "df_wave1.head()"
   ]
  },
  {
   "cell_type": "markdown",
   "id": "1c1c50ae",
   "metadata": {},
   "source": [
    "## Data Wrangling"
   ]
  },
  {
   "cell_type": "code",
   "execution_count": 3,
   "id": "620af4b3",
   "metadata": {},
   "outputs": [],
   "source": [
    "# read the data dictionary\n",
    "data_dictionary = pd.read_csv(\"D2-ABS1+2.csv\", header=1)"
   ]
  },
  {
   "cell_type": "markdown",
   "id": "26f67e6b",
   "metadata": {},
   "source": [
    "#### Select only the columns of interest"
   ]
  },
  {
   "cell_type": "code",
   "execution_count": 4,
   "id": "27d6bc7a",
   "metadata": {},
   "outputs": [],
   "source": [
    "def select_important_columns(data_dictionary, dataset):\n",
    "  col_names = data_dictionary[\"ABS1_Coding_name\"][0:-6]\n",
    "  return df_wave1[col_names]"
   ]
  },
  {
   "cell_type": "code",
   "execution_count": 5,
   "id": "38ca767c",
   "metadata": {},
   "outputs": [],
   "source": [
    "merged_data = pd.merge(df_wave1[['country']], select_important_columns(data_dictionary, df_wave1))"
   ]
  },
  {
   "cell_type": "code",
   "execution_count": 6,
   "id": "9c430247",
   "metadata": {},
   "outputs": [
    {
     "data": {
      "text/html": [
       "<div>\n",
       "<style scoped>\n",
       "    .dataframe tbody tr th:only-of-type {\n",
       "        vertical-align: middle;\n",
       "    }\n",
       "\n",
       "    .dataframe tbody tr th {\n",
       "        vertical-align: top;\n",
       "    }\n",
       "\n",
       "    .dataframe thead th {\n",
       "        text-align: right;\n",
       "    }\n",
       "</style>\n",
       "<table border=\"1\" class=\"dataframe\">\n",
       "  <thead>\n",
       "    <tr style=\"text-align: right;\">\n",
       "      <th></th>\n",
       "      <th>country</th>\n",
       "      <th>se002</th>\n",
       "      <th>se004</th>\n",
       "      <th>se005</th>\n",
       "      <th>se009</th>\n",
       "      <th>se003a</th>\n",
       "      <th>q007</th>\n",
       "      <th>q008</th>\n",
       "      <th>q009</th>\n",
       "      <th>q010</th>\n",
       "      <th>...</th>\n",
       "      <th>q098</th>\n",
       "      <th>q128</th>\n",
       "      <th>q005</th>\n",
       "      <th>q027</th>\n",
       "      <th>q028</th>\n",
       "      <th>q105</th>\n",
       "      <th>q106</th>\n",
       "      <th>q121</th>\n",
       "      <th>q123</th>\n",
       "      <th>q127</th>\n",
       "    </tr>\n",
       "  </thead>\n",
       "  <tbody>\n",
       "    <tr>\n",
       "      <th>0</th>\n",
       "      <td>4.0</td>\n",
       "      <td>1.0</td>\n",
       "      <td>NaN</td>\n",
       "      <td>5.0</td>\n",
       "      <td>5.0</td>\n",
       "      <td>38.0</td>\n",
       "      <td>3.0</td>\n",
       "      <td>3.0</td>\n",
       "      <td>3.0</td>\n",
       "      <td>3.0</td>\n",
       "      <td>...</td>\n",
       "      <td>2.0</td>\n",
       "      <td>3.0</td>\n",
       "      <td>4.0</td>\n",
       "      <td>2.0</td>\n",
       "      <td>NaN</td>\n",
       "      <td>5.0</td>\n",
       "      <td>3.0</td>\n",
       "      <td>NaN</td>\n",
       "      <td>3.0</td>\n",
       "      <td>2.0</td>\n",
       "    </tr>\n",
       "    <tr>\n",
       "      <th>1</th>\n",
       "      <td>4.0</td>\n",
       "      <td>2.0</td>\n",
       "      <td>NaN</td>\n",
       "      <td>4.0</td>\n",
       "      <td>5.0</td>\n",
       "      <td>60.0</td>\n",
       "      <td>4.0</td>\n",
       "      <td>4.0</td>\n",
       "      <td>3.0</td>\n",
       "      <td>4.0</td>\n",
       "      <td>...</td>\n",
       "      <td>3.0</td>\n",
       "      <td>3.0</td>\n",
       "      <td>3.0</td>\n",
       "      <td>NaN</td>\n",
       "      <td>NaN</td>\n",
       "      <td>3.0</td>\n",
       "      <td>3.0</td>\n",
       "      <td>NaN</td>\n",
       "      <td>NaN</td>\n",
       "      <td>2.0</td>\n",
       "    </tr>\n",
       "    <tr>\n",
       "      <th>2</th>\n",
       "      <td>4.0</td>\n",
       "      <td>2.0</td>\n",
       "      <td>NaN</td>\n",
       "      <td>1.0</td>\n",
       "      <td>5.0</td>\n",
       "      <td>69.0</td>\n",
       "      <td>4.0</td>\n",
       "      <td>4.0</td>\n",
       "      <td>4.0</td>\n",
       "      <td>4.0</td>\n",
       "      <td>...</td>\n",
       "      <td>NaN</td>\n",
       "      <td>NaN</td>\n",
       "      <td>3.0</td>\n",
       "      <td>NaN</td>\n",
       "      <td>NaN</td>\n",
       "      <td>2.0</td>\n",
       "      <td>3.0</td>\n",
       "      <td>NaN</td>\n",
       "      <td>NaN</td>\n",
       "      <td>3.0</td>\n",
       "    </tr>\n",
       "    <tr>\n",
       "      <th>3</th>\n",
       "      <td>4.0</td>\n",
       "      <td>2.0</td>\n",
       "      <td>NaN</td>\n",
       "      <td>8.0</td>\n",
       "      <td>5.0</td>\n",
       "      <td>39.0</td>\n",
       "      <td>4.0</td>\n",
       "      <td>4.0</td>\n",
       "      <td>4.0</td>\n",
       "      <td>4.0</td>\n",
       "      <td>...</td>\n",
       "      <td>3.0</td>\n",
       "      <td>3.0</td>\n",
       "      <td>2.0</td>\n",
       "      <td>2.0</td>\n",
       "      <td>NaN</td>\n",
       "      <td>5.0</td>\n",
       "      <td>3.0</td>\n",
       "      <td>NaN</td>\n",
       "      <td>3.0</td>\n",
       "      <td>NaN</td>\n",
       "    </tr>\n",
       "    <tr>\n",
       "      <th>4</th>\n",
       "      <td>4.0</td>\n",
       "      <td>1.0</td>\n",
       "      <td>NaN</td>\n",
       "      <td>4.0</td>\n",
       "      <td>5.0</td>\n",
       "      <td>48.0</td>\n",
       "      <td>4.0</td>\n",
       "      <td>4.0</td>\n",
       "      <td>4.0</td>\n",
       "      <td>4.0</td>\n",
       "      <td>...</td>\n",
       "      <td>NaN</td>\n",
       "      <td>2.0</td>\n",
       "      <td>3.0</td>\n",
       "      <td>NaN</td>\n",
       "      <td>NaN</td>\n",
       "      <td>4.0</td>\n",
       "      <td>3.0</td>\n",
       "      <td>NaN</td>\n",
       "      <td>3.0</td>\n",
       "      <td>2.0</td>\n",
       "    </tr>\n",
       "  </tbody>\n",
       "</table>\n",
       "<p>5 rows × 21 columns</p>\n",
       "</div>"
      ],
      "text/plain": [
       "   country  se002  se004  se005  se009  se003a  q007  q008  q009  q010  ...  \\\n",
       "0      4.0    1.0    NaN    5.0    5.0    38.0   3.0   3.0   3.0   3.0  ...   \n",
       "1      4.0    2.0    NaN    4.0    5.0    60.0   4.0   4.0   3.0   4.0  ...   \n",
       "2      4.0    2.0    NaN    1.0    5.0    69.0   4.0   4.0   4.0   4.0  ...   \n",
       "3      4.0    2.0    NaN    8.0    5.0    39.0   4.0   4.0   4.0   4.0  ...   \n",
       "4      4.0    1.0    NaN    4.0    5.0    48.0   4.0   4.0   4.0   4.0  ...   \n",
       "\n",
       "   q098  q128  q005  q027  q028  q105  q106  q121  q123  q127  \n",
       "0   2.0   3.0   4.0   2.0   NaN   5.0   3.0   NaN   3.0   2.0  \n",
       "1   3.0   3.0   3.0   NaN   NaN   3.0   3.0   NaN   NaN   2.0  \n",
       "2   NaN   NaN   3.0   NaN   NaN   2.0   3.0   NaN   NaN   3.0  \n",
       "3   3.0   3.0   2.0   2.0   NaN   5.0   3.0   NaN   3.0   NaN  \n",
       "4   NaN   2.0   3.0   NaN   NaN   4.0   3.0   NaN   3.0   2.0  \n",
       "\n",
       "[5 rows x 21 columns]"
      ]
     },
     "execution_count": 6,
     "metadata": {},
     "output_type": "execute_result"
    }
   ],
   "source": [
    "merged_data.head()"
   ]
  },
  {
   "cell_type": "code",
   "execution_count": 7,
   "id": "16ec623e",
   "metadata": {},
   "outputs": [
    {
     "name": "stdout",
     "output_type": "stream",
     "text": [
      "<class 'pandas.core.frame.DataFrame'>\n",
      "Int64Index: 22191011 entries, 0 to 22191010\n",
      "Data columns (total 21 columns):\n",
      " #   Column   Dtype  \n",
      "---  ------   -----  \n",
      " 0   country  float64\n",
      " 1   se002    float64\n",
      " 2   se004    float64\n",
      " 3   se005    float64\n",
      " 4   se009    float64\n",
      " 5   se003a   float64\n",
      " 6   q007     float64\n",
      " 7   q008     float64\n",
      " 8   q009     float64\n",
      " 9   q010     float64\n",
      " 10  q006     float64\n",
      " 11  q098     float64\n",
      " 12  q128     float64\n",
      " 13  q005     float64\n",
      " 14  q027     float64\n",
      " 15  q028     float64\n",
      " 16  q105     float64\n",
      " 17  q106     float64\n",
      " 18  q121     float64\n",
      " 19  q123     float64\n",
      " 20  q127     float64\n",
      "dtypes: float64(21)\n",
      "memory usage: 3.6 GB\n"
     ]
    }
   ],
   "source": [
    "merged_data.info()"
   ]
  },
  {
   "cell_type": "markdown",
   "id": "8779466d",
   "metadata": {},
   "source": [
    "#### Explore variables"
   ]
  },
  {
   "cell_type": "code",
   "execution_count": 8,
   "id": "b8eab32a",
   "metadata": {},
   "outputs": [
    {
     "data": {
      "text/plain": [
       "3.0    11481534\n",
       "2.0     5235324\n",
       "4.0     2656754\n",
       "1.0      751463\n",
       "Name: q098, dtype: int64"
      ]
     },
     "execution_count": 8,
     "metadata": {},
     "output_type": "execute_result"
    }
   ],
   "source": [
    "merged_data.q098.value_counts()"
   ]
  },
  {
   "cell_type": "code",
   "execution_count": 9,
   "id": "5de9a014",
   "metadata": {},
   "outputs": [
    {
     "data": {
      "text/plain": [
       "4.0    7643476\n",
       "3.0    6014953\n",
       "2.0    5201697\n",
       "5.0    1800464\n",
       "1.0    1397137\n",
       "Name: q005, dtype: int64"
      ]
     },
     "execution_count": 9,
     "metadata": {},
     "output_type": "execute_result"
    }
   ],
   "source": [
    "merged_data.q005.value_counts()"
   ]
  },
  {
   "cell_type": "markdown",
   "id": "37781f1b",
   "metadata": {},
   "source": [
    "#### Change datatype for non numerical values to categorical ordinal or categorical norminal"
   ]
  },
  {
   "cell_type": "code",
   "execution_count": 10,
   "id": "f4ae9d0e",
   "metadata": {},
   "outputs": [],
   "source": [
    "cat1 = CategoricalDtype(categories=[1.0, 2.0, 3.0, 4.0, 5.0], ordered=True)\n",
    "cat2 = CategoricalDtype(categories=[1.0, 2.0, 3.0, 4.0], ordered=True)\n",
    "for column in merged_data.columns:\n",
    "  if column != \"se003a\": #not age\n",
    "    if column == \"q006\" or column == \"q005\" or column == \"q105\" or column == \"q106\" or column == \"se009\":\n",
    "      merged_data[column] = merged_data[column].astype(cat1)\n",
    "    if column == \"q098\" or column == \"q123\" or column == \"q121\" or column == \"q127\" or column == \"q128\" \\\n",
    "        or column == \"q008\" or column == \"q009\" or column == \"q010\":\n",
    "        merged_data[column] = merged_data[column].astype(cat2)\n",
    "    merged_data[column] = merged_data[column].astype(\"category\")"
   ]
  },
  {
   "cell_type": "code",
   "execution_count": 11,
   "id": "b7587cb6",
   "metadata": {},
   "outputs": [
    {
     "name": "stdout",
     "output_type": "stream",
     "text": [
      "<class 'pandas.core.frame.DataFrame'>\n",
      "Int64Index: 22191011 entries, 0 to 22191010\n",
      "Data columns (total 21 columns):\n",
      " #   Column   Dtype   \n",
      "---  ------   -----   \n",
      " 0   country  category\n",
      " 1   se002    category\n",
      " 2   se004    category\n",
      " 3   se005    category\n",
      " 4   se009    category\n",
      " 5   se003a   float64 \n",
      " 6   q007     category\n",
      " 7   q008     category\n",
      " 8   q009     category\n",
      " 9   q010     category\n",
      " 10  q006     category\n",
      " 11  q098     category\n",
      " 12  q128     category\n",
      " 13  q005     category\n",
      " 14  q027     category\n",
      " 15  q028     category\n",
      " 16  q105     category\n",
      " 17  q106     category\n",
      " 18  q121     category\n",
      " 19  q123     category\n",
      " 20  q127     category\n",
      "dtypes: category(20), float64(1)\n",
      "memory usage: 761.9 MB\n"
     ]
    }
   ],
   "source": [
    "merged_data.info()"
   ]
  },
  {
   "cell_type": "markdown",
   "id": "e4cd2fb5",
   "metadata": {},
   "source": [
    "### Missing data"
   ]
  },
  {
   "cell_type": "code",
   "execution_count": 12,
   "id": "f669988b",
   "metadata": {},
   "outputs": [
    {
     "data": {
      "text/plain": [
       "country           0\n",
       "se002         12368\n",
       "se004      10154431\n",
       "se005         68666\n",
       "se009       1310033\n",
       "se003a      1350731\n",
       "q007        2481561\n",
       "q008        1300395\n",
       "q009        1130763\n",
       "q010        1771056\n",
       "q006        2710052\n",
       "q098        2065936\n",
       "q128        2689416\n",
       "q005         133284\n",
       "q027        4760657\n",
       "q028       14673905\n",
       "q105        1838917\n",
       "q106        2347510\n",
       "q121       10639269\n",
       "q123        2048706\n",
       "q127        2278003\n",
       "dtype: int64"
      ]
     },
     "execution_count": 12,
     "metadata": {},
     "output_type": "execute_result"
    }
   ],
   "source": [
    "merged_data.isna().sum()"
   ]
  },
  {
   "cell_type": "markdown",
   "id": "40a570dc",
   "metadata": {},
   "source": [
    "##### Drop columns that have more 60% missing data"
   ]
  },
  {
   "cell_type": "code",
   "execution_count": 13,
   "id": "d4263517",
   "metadata": {},
   "outputs": [],
   "source": [
    "merged_data_dropped = merged_data.drop(['se004', 'q028', 'q121'], axis=1)"
   ]
  },
  {
   "cell_type": "markdown",
   "id": "d5a44f2f",
   "metadata": {},
   "source": [
    "### Impute missing values with most frequent value in column"
   ]
  },
  {
   "cell_type": "code",
   "execution_count": 14,
   "id": "a9b2d5d8",
   "metadata": {},
   "outputs": [],
   "source": [
    "imp = SimpleImputer(strategy=\"most_frequent\")\n",
    "imputed_data = imp.fit_transform(merged_data_dropped)"
   ]
  },
  {
   "cell_type": "code",
   "execution_count": 15,
   "id": "9c92e345",
   "metadata": {},
   "outputs": [
    {
     "data": {
      "text/plain": [
       "country    0\n",
       "se002      0\n",
       "se005      0\n",
       "se009      0\n",
       "se003a     0\n",
       "q007       0\n",
       "q008       0\n",
       "q009       0\n",
       "q010       0\n",
       "q006       0\n",
       "q098       0\n",
       "q128       0\n",
       "q005       0\n",
       "q027       0\n",
       "q105       0\n",
       "q106       0\n",
       "q123       0\n",
       "q127       0\n",
       "dtype: int64"
      ]
     },
     "execution_count": 15,
     "metadata": {},
     "output_type": "execute_result"
    }
   ],
   "source": [
    "merged_imputed_data = pd.DataFrame(imputed_data, columns = merged_data_dropped.columns)\n",
    "merged_imputed_data.isna().sum()"
   ]
  },
  {
   "cell_type": "code",
   "execution_count": 16,
   "id": "9808ec73",
   "metadata": {},
   "outputs": [],
   "source": [
    "merged_imputed_data.to_csv(\"clean_data.csv\")"
   ]
  },
  {
   "cell_type": "markdown",
   "id": "efe756e0",
   "metadata": {},
   "source": [
    "### Select a random subset of data to work with"
   ]
  },
  {
   "cell_type": "code",
   "execution_count": 17,
   "id": "e9ec791f",
   "metadata": {},
   "outputs": [
    {
     "data": {
      "text/html": [
       "<div>\n",
       "<style scoped>\n",
       "    .dataframe tbody tr th:only-of-type {\n",
       "        vertical-align: middle;\n",
       "    }\n",
       "\n",
       "    .dataframe tbody tr th {\n",
       "        vertical-align: top;\n",
       "    }\n",
       "\n",
       "    .dataframe thead th {\n",
       "        text-align: right;\n",
       "    }\n",
       "</style>\n",
       "<table border=\"1\" class=\"dataframe\">\n",
       "  <thead>\n",
       "    <tr style=\"text-align: right;\">\n",
       "      <th></th>\n",
       "      <th>country</th>\n",
       "      <th>se002</th>\n",
       "      <th>se005</th>\n",
       "      <th>se009</th>\n",
       "      <th>se003a</th>\n",
       "      <th>q007</th>\n",
       "      <th>q008</th>\n",
       "      <th>q009</th>\n",
       "      <th>q010</th>\n",
       "      <th>q006</th>\n",
       "      <th>q098</th>\n",
       "      <th>q128</th>\n",
       "      <th>q005</th>\n",
       "      <th>q027</th>\n",
       "      <th>q105</th>\n",
       "      <th>q106</th>\n",
       "      <th>q123</th>\n",
       "      <th>q127</th>\n",
       "    </tr>\n",
       "  </thead>\n",
       "  <tbody>\n",
       "    <tr>\n",
       "      <th>0</th>\n",
       "      <td>1.0</td>\n",
       "      <td>2.0</td>\n",
       "      <td>7.0</td>\n",
       "      <td>3.0</td>\n",
       "      <td>42.0</td>\n",
       "      <td>2.0</td>\n",
       "      <td>2.0</td>\n",
       "      <td>1.0</td>\n",
       "      <td>1.0</td>\n",
       "      <td>3.0</td>\n",
       "      <td>3.0</td>\n",
       "      <td>2.0</td>\n",
       "      <td>3.0</td>\n",
       "      <td>2.0</td>\n",
       "      <td>4.0</td>\n",
       "      <td>4.0</td>\n",
       "      <td>4.0</td>\n",
       "      <td>2.0</td>\n",
       "    </tr>\n",
       "    <tr>\n",
       "      <th>1</th>\n",
       "      <td>1.0</td>\n",
       "      <td>2.0</td>\n",
       "      <td>8.0</td>\n",
       "      <td>2.0</td>\n",
       "      <td>49.0</td>\n",
       "      <td>3.0</td>\n",
       "      <td>2.0</td>\n",
       "      <td>1.0</td>\n",
       "      <td>2.0</td>\n",
       "      <td>2.0</td>\n",
       "      <td>3.0</td>\n",
       "      <td>4.0</td>\n",
       "      <td>3.0</td>\n",
       "      <td>2.0</td>\n",
       "      <td>5.0</td>\n",
       "      <td>4.0</td>\n",
       "      <td>4.0</td>\n",
       "      <td>2.0</td>\n",
       "    </tr>\n",
       "    <tr>\n",
       "      <th>2</th>\n",
       "      <td>1.0</td>\n",
       "      <td>1.0</td>\n",
       "      <td>8.0</td>\n",
       "      <td>3.0</td>\n",
       "      <td>40.0</td>\n",
       "      <td>2.0</td>\n",
       "      <td>2.0</td>\n",
       "      <td>2.0</td>\n",
       "      <td>2.0</td>\n",
       "      <td>2.0</td>\n",
       "      <td>3.0</td>\n",
       "      <td>2.0</td>\n",
       "      <td>3.0</td>\n",
       "      <td>2.0</td>\n",
       "      <td>5.0</td>\n",
       "      <td>3.0</td>\n",
       "      <td>4.0</td>\n",
       "      <td>3.0</td>\n",
       "    </tr>\n",
       "    <tr>\n",
       "      <th>3</th>\n",
       "      <td>1.0</td>\n",
       "      <td>2.0</td>\n",
       "      <td>7.0</td>\n",
       "      <td>1.0</td>\n",
       "      <td>29.0</td>\n",
       "      <td>3.0</td>\n",
       "      <td>4.0</td>\n",
       "      <td>4.0</td>\n",
       "      <td>4.0</td>\n",
       "      <td>4.0</td>\n",
       "      <td>3.0</td>\n",
       "      <td>2.0</td>\n",
       "      <td>3.0</td>\n",
       "      <td>1.0</td>\n",
       "      <td>5.0</td>\n",
       "      <td>5.0</td>\n",
       "      <td>4.0</td>\n",
       "      <td>1.0</td>\n",
       "    </tr>\n",
       "    <tr>\n",
       "      <th>4</th>\n",
       "      <td>1.0</td>\n",
       "      <td>1.0</td>\n",
       "      <td>8.0</td>\n",
       "      <td>5.0</td>\n",
       "      <td>23.0</td>\n",
       "      <td>2.0</td>\n",
       "      <td>3.0</td>\n",
       "      <td>2.0</td>\n",
       "      <td>2.0</td>\n",
       "      <td>4.0</td>\n",
       "      <td>2.0</td>\n",
       "      <td>2.0</td>\n",
       "      <td>3.0</td>\n",
       "      <td>2.0</td>\n",
       "      <td>4.0</td>\n",
       "      <td>4.0</td>\n",
       "      <td>4.0</td>\n",
       "      <td>2.0</td>\n",
       "    </tr>\n",
       "  </tbody>\n",
       "</table>\n",
       "</div>"
      ],
      "text/plain": [
       "   country  se002  se005  se009  se003a  q007  q008  q009  q010  q006  q098  \\\n",
       "0      1.0    2.0    7.0    3.0    42.0   2.0   2.0   1.0   1.0   3.0   3.0   \n",
       "1      1.0    2.0    8.0    2.0    49.0   3.0   2.0   1.0   2.0   2.0   3.0   \n",
       "2      1.0    1.0    8.0    3.0    40.0   2.0   2.0   2.0   2.0   2.0   3.0   \n",
       "3      1.0    2.0    7.0    1.0    29.0   3.0   4.0   4.0   4.0   4.0   3.0   \n",
       "4      1.0    1.0    8.0    5.0    23.0   2.0   3.0   2.0   2.0   4.0   2.0   \n",
       "\n",
       "   q128  q005  q027  q105  q106  q123  q127  \n",
       "0   2.0   3.0   2.0   4.0   4.0   4.0   2.0  \n",
       "1   4.0   3.0   2.0   5.0   4.0   4.0   2.0  \n",
       "2   2.0   3.0   2.0   5.0   3.0   4.0   3.0  \n",
       "3   2.0   3.0   1.0   5.0   5.0   4.0   1.0  \n",
       "4   2.0   3.0   2.0   4.0   4.0   4.0   2.0  "
      ]
     },
     "execution_count": 17,
     "metadata": {},
     "output_type": "execute_result"
    }
   ],
   "source": [
    "df_sample = merged_imputed_data.groupby(\"country\").sample(n = 10000, replace = True,\n",
    "                                                          random_state = 0).reset_index(drop=True)\n",
    "df_sample.head()"
   ]
  },
  {
   "cell_type": "markdown",
   "id": "284390af",
   "metadata": {},
   "source": [
    "## Exploratory Data Analysis"
   ]
  },
  {
   "cell_type": "code",
   "execution_count": 18,
   "id": "25ba4858",
   "metadata": {},
   "outputs": [
    {
     "data": {
      "text/plain": [
       "<AxesSubplot:xlabel='se003a', ylabel='Density'>"
      ]
     },
     "execution_count": 18,
     "metadata": {},
     "output_type": "execute_result"
    },
    {
     "data": {
      "image/png": "[encoded data removed]",
      "text/plain": [
       "<Figure size 432x288 with 1 Axes>"
      ]
     },
     "metadata": {
      "needs_background": "light"
     },
     "output_type": "display_data"
    }
   ],
   "source": [
    "sns.distplot(df_sample.loc[df_sample['country']==4.0]['se003a'])"
   ]
  },
  {
   "cell_type": "code",
   "execution_count": 19,
   "id": "e0fec262",
   "metadata": {},
   "outputs": [
    {
     "data": {
      "image/png": "[encoded data removed]",
      "text/plain": [
       "<Figure size 360x360 with 1 Axes>"
      ]
     },
     "metadata": {
      "needs_background": "light"
     },
     "output_type": "display_data"
    }
   ],
   "source": [
    "plt.figure(figsize=(5,5))\n",
    "sns.distplot(df_sample.loc[df_sample['country']==1.0]['se003a'], hist=False, label = \"Japan\")\n",
    "sns.distplot(df_sample.loc[df_sample['country']==2.0]['se003a'], hist=False, label = \"Hong Kong\")\n",
    "sns.distplot(df_sample.loc[df_sample['country']==3.0]['se003a'], hist=False, label = \"Korea\")\n",
    "sns.distplot(df_sample.loc[df_sample['country']==4.0]['se003a'], hist=False, label = \"Mainland China\")\n",
    "#Mogolia has no age distribution\n",
    "sns.distplot(df_sample.loc[df_sample['country']==5.0]['se003a'], hist=False, label = \"Mongolia\")\n",
    "sns.distplot(df_sample.loc[df_sample['country']==6.0]['se003a'], hist=False, label = \"Philippines\")\n",
    "sns.distplot(df_sample.loc[df_sample['country']==7.0]['se003a'], hist=False, label = \"Taiwan\")\n",
    "sns.distplot(df_sample.loc[df_sample['country']==8.0]['se003a'], hist=False, label = \"Thailand\")\n",
    "plt.title(\"Age Distribution Across Countries\")\n",
    "plt.legend()\n",
    "plt.xlabel(\"Age\")\n",
    "plt.show()"
   ]
  },
  {
   "cell_type": "code",
   "execution_count": 20,
   "id": "c8e1f0b4",
   "metadata": {},
   "outputs": [
    {
     "data": {
      "text/plain": [
       "Text(0.5, 0.98, 'Country vs. Democracy')"
      ]
     },
     "execution_count": 20,
     "metadata": {},
     "output_type": "execute_result"
    },
    {
     "data": {
      "image/png": "[encoded data removed]",
      "text/plain": [
       "<Figure size 411.875x360 with 1 Axes>"
      ]
     },
     "metadata": {
      "needs_background": "light"
     },
     "output_type": "display_data"
    }
   ],
   "source": [
    "sns.catplot(x=\"country\", hue=\"q098\", data=df_sample, kind=\"count\")\n",
    "plt.suptitle(\"Country vs. Democracy\")"
   ]
  },
  {
   "cell_type": "code",
   "execution_count": 21,
   "id": "1a44479a",
   "metadata": {},
   "outputs": [
    {
     "data": {
      "image/png": "[encoded data removed]",
      "text/plain": [
       "<Figure size 504x864 with 1 Axes>"
      ]
     },
     "metadata": {
      "needs_background": "light"
     },
     "output_type": "display_data"
    }
   ],
   "source": [
    "fig, ax = plt.subplots(figsize=(7,12))\n",
    "sns.boxplot(x=\"se003a\", y=\"q098\", data=df_sample, orient=\"h\", ax=ax)\n",
    "ax.get_yaxis().set_visible(False)\n",
    "fig.suptitle(\"Age vs. Democracy\")\n",
    "color_patches = [\n",
    "    Patch(facecolor=\"blue\", label=\"1.0 satisfied\"),\n",
    "    Patch(facecolor=\"orange\", label=\"2.0 not very satisfied\"),\n",
    "    Patch(facecolor=\"yellow\", label=\"3.0 fairly satisfied\"),\n",
    "    Patch(facecolor=\"green\", label=\"4.0 very satisfied\")\n",
    "]\n",
    "ax.legend(handles=color_patches);"
   ]
  },
  {
   "cell_type": "code",
   "execution_count": 22,
   "id": "d8a3e58d",
   "metadata": {},
   "outputs": [
    {
     "data": {
      "text/plain": [
       "Text(0.5, 0.98, 'Country vs. Democracy by Gender')"
      ]
     },
     "execution_count": 22,
     "metadata": {},
     "output_type": "execute_result"
    },
    {
     "data": {
      "image/png": "[encoded data removed]",
      "text/plain": [
       "<Figure size 771.875x360 with 2 Axes>"
      ]
     },
     "metadata": {
      "needs_background": "light"
     },
     "output_type": "display_data"
    }
   ],
   "source": [
    "sns.catplot(col=\"se002\", hue=\"q098\", x=\"country\", data=df_sample, kind=\"count\", ax=ax)\n",
    "fig.suptitle(\"Country vs. Democracy by Gender\")"
   ]
  },
  {
   "cell_type": "code",
   "execution_count": 23,
   "id": "8c090221",
   "metadata": {},
   "outputs": [
    {
     "data": {
      "text/plain": [
       "Text(0.5, 0.98, 'Country vs. Democracy by Education')"
      ]
     },
     "execution_count": 23,
     "metadata": {},
     "output_type": "execute_result"
    },
    {
     "data": {
      "image/png": "[encoded data removed]",
      "text/plain": [
       "<Figure size 3651.88x360 with 10 Axes>"
      ]
     },
     "metadata": {
      "needs_background": "light"
     },
     "output_type": "display_data"
    }
   ],
   "source": [
    "sns.catplot(col=\"se005\", hue=\"q098\", x=\"country\", data=df_sample, kind=\"count\", ax=ax)\n",
    "fig.suptitle(\"Country vs. Democracy by Education\")"
   ]
  },
  {
   "cell_type": "code",
   "execution_count": 24,
   "id": "8e88c82e",
   "metadata": {},
   "outputs": [
    {
     "data": {
      "text/plain": [
       "Text(0.5, 0.98, 'Country vs. Democracy by Income')"
      ]
     },
     "execution_count": 24,
     "metadata": {},
     "output_type": "execute_result"
    },
    {
     "data": {
      "image/png": "[encoded data removed]",
      "text/plain": [
       "<Figure size 1851.88x360 with 5 Axes>"
      ]
     },
     "metadata": {
      "needs_background": "light"
     },
     "output_type": "display_data"
    }
   ],
   "source": [
    "sns.catplot(col=\"se009\", hue=\"q098\", x=\"country\", data=df_sample, kind=\"count\", ax=ax)\n",
    "fig.suptitle(\"Country vs. Democracy by Income\")"
   ]
  },
  {
   "cell_type": "code",
   "execution_count": 25,
   "id": "a6e8ec6e",
   "metadata": {},
   "outputs": [
    {
     "data": {
      "text/plain": [
       "Text(0.5, 0.98, 'Country vs. Democracy by Voted last election ')"
      ]
     },
     "execution_count": 25,
     "metadata": {},
     "output_type": "execute_result"
    },
    {
     "data": {
      "image/png": "[encoded data removed]",
      "text/plain": [
       "<Figure size 771.875x360 with 2 Axes>"
      ]
     },
     "metadata": {
      "needs_background": "light"
     },
     "output_type": "display_data"
    }
   ],
   "source": [
    "sns.catplot(col=\"q027\", hue=\"q098\", x=\"country\", data=df_sample, kind=\"count\", ax=ax)\n",
    "fig.suptitle(\"Country vs. Democracy by Voted last election \")"
   ]
  },
  {
   "cell_type": "code",
   "execution_count": 26,
   "id": "2eb85b36",
   "metadata": {},
   "outputs": [
    {
     "data": {
      "text/plain": [
       "Text(0.5, 0.98, 'Country vs. Democracy by Military')"
      ]
     },
     "execution_count": 26,
     "metadata": {},
     "output_type": "execute_result"
    },
    {
     "data": {
      "image/png": "[encoded data removed]",
      "text/plain": [
       "<Figure size 1491.88x360 with 4 Axes>"
      ]
     },
     "metadata": {
      "needs_background": "light"
     },
     "output_type": "display_data"
    }
   ],
   "source": [
    "sns.catplot(col=\"q010\", hue=\"q098\", x=\"country\", data=df_sample, kind=\"count\", ax=ax)\n",
    "fig.suptitle(\"Country vs. Democracy by Military\")"
   ]
  },
  {
   "cell_type": "code",
   "execution_count": 27,
   "id": "e12e975e",
   "metadata": {},
   "outputs": [
    {
     "data": {
      "text/plain": [
       "Text(0.5, 0.98, 'Country vs. Democracy by Courts')"
      ]
     },
     "execution_count": 27,
     "metadata": {},
     "output_type": "execute_result"
    },
    {
     "data": {
      "image/png": "[encoded data removed]",
      "text/plain": [
       "<Figure size 1491.88x360 with 4 Axes>"
      ]
     },
     "metadata": {
      "needs_background": "light"
     },
     "output_type": "display_data"
    }
   ],
   "source": [
    "sns.catplot(col=\"q007\", hue=\"q098\", x=\"country\", data=df_sample, kind=\"count\", ax=ax)\n",
    "fig.suptitle(\"Country vs. Democracy by Courts\")"
   ]
  },
  {
   "cell_type": "code",
   "execution_count": 28,
   "id": "9e9b3a7a",
   "metadata": {},
   "outputs": [
    {
     "data": {
      "text/plain": [
       "Text(0.5, 0.98, 'Country vs. Democracy by National Government')"
      ]
     },
     "execution_count": 28,
     "metadata": {},
     "output_type": "execute_result"
    },
    {
     "data": {
      "image/png": "[encoded data removed]",
      "text/plain": [
       "<Figure size 1491.88x360 with 4 Axes>"
      ]
     },
     "metadata": {
      "needs_background": "light"
     },
     "output_type": "display_data"
    }
   ],
   "source": [
    "sns.catplot(col=\"q008\", hue=\"q098\", x=\"country\", data=df_sample, kind=\"count\", ax=ax)\n",
    "fig.suptitle(\"Country vs. Democracy by National Government\")"
   ]
  },
  {
   "cell_type": "code",
   "execution_count": 29,
   "id": "1373c89e",
   "metadata": {},
   "outputs": [
    {
     "data": {
      "text/plain": [
       "Text(0.5, 0.98, 'Country vs. Democracy by Civil Service')"
      ]
     },
     "execution_count": 29,
     "metadata": {},
     "output_type": "execute_result"
    },
    {
     "data": {
      "image/png": "[encoded data removed]",
      "text/plain": [
       "<Figure size 1491.88x360 with 4 Axes>"
      ]
     },
     "metadata": {
      "needs_background": "light"
     },
     "output_type": "display_data"
    }
   ],
   "source": [
    "sns.catplot(col=\"q009\", hue=\"q098\", x=\"country\", data=df_sample, kind=\"count\", ax=ax)\n",
    "fig.suptitle(\"Country vs. Democracy by Civil Service\")"
   ]
  },
  {
   "cell_type": "code",
   "execution_count": 30,
   "id": "db6c548d",
   "metadata": {},
   "outputs": [
    {
     "data": {
      "text/plain": [
       "Text(0.5, 0.98, 'Country vs. Democracy by Economic situation future')"
      ]
     },
     "execution_count": 30,
     "metadata": {},
     "output_type": "execute_result"
    },
    {
     "data": {
      "image/png": "[encoded data removed]",
      "text/plain": [
       "<Figure size 1851.88x360 with 5 Axes>"
      ]
     },
     "metadata": {
      "needs_background": "light"
     },
     "output_type": "display_data"
    }
   ],
   "source": [
    "sns.catplot(col=\"q006\", hue=\"q098\", x=\"country\", data=df_sample, kind=\"count\", ax=ax)\n",
    "fig.suptitle(\"Country vs. Democracy by Economic situation future\")"
   ]
  },
  {
   "cell_type": "code",
   "execution_count": 31,
   "id": "c9814ff8",
   "metadata": {},
   "outputs": [
    {
     "data": {
      "text/plain": [
       "Text(0.5, 0.98, 'Country vs. Democracy by Comparison of Current Economy')"
      ]
     },
     "execution_count": 31,
     "metadata": {},
     "output_type": "execute_result"
    },
    {
     "data": {
      "image/png": "[encoded data removed]",
      "text/plain": [
       "<Figure size 1851.88x360 with 5 Axes>"
      ]
     },
     "metadata": {
      "needs_background": "light"
     },
     "output_type": "display_data"
    }
   ],
   "source": [
    "sns.catplot(col=\"q005\", hue=\"q098\", x=\"country\", data=df_sample, kind=\"count\", ax=ax)\n",
    "fig.suptitle(\"Country vs. Democracy by Comparison of Current Economy\")"
   ]
  },
  {
   "cell_type": "code",
   "execution_count": 32,
   "id": "86314836",
   "metadata": {},
   "outputs": [
    {
     "data": {
      "text/plain": [
       "Text(0.5, 0.98, 'Country vs. Democracy by Trust in Governance')"
      ]
     },
     "execution_count": 32,
     "metadata": {},
     "output_type": "execute_result"
    },
    {
     "data": {
      "image/png": "[encoded data removed]",
      "text/plain": [
       "<Figure size 1491.88x360 with 4 Axes>"
      ]
     },
     "metadata": {
      "needs_background": "light"
     },
     "output_type": "display_data"
    }
   ],
   "source": [
    "sns.catplot(col=\"q128\", hue=\"q098\", x=\"country\", data=df_sample, kind=\"count\", ax=ax)\n",
    "fig.suptitle(\"Country vs. Democracy by Trust in Governance\")"
   ]
  },
  {
   "cell_type": "code",
   "execution_count": 33,
   "id": "ae1aa22b",
   "metadata": {},
   "outputs": [
    {
     "data": {
      "text/plain": [
       "Text(0.5, 0.98, 'Country vs. Democracy by Freedom of Speech')"
      ]
     },
     "execution_count": 33,
     "metadata": {},
     "output_type": "execute_result"
    },
    {
     "data": {
      "image/png": "[encoded data removed]",
      "text/plain": [
       "<Figure size 1851.88x360 with 5 Axes>"
      ]
     },
     "metadata": {
      "needs_background": "light"
     },
     "output_type": "display_data"
    }
   ],
   "source": [
    "sns.catplot(col=\"q105\", hue=\"q098\", x=\"country\", data=df_sample, kind=\"count\", ax=ax)\n",
    "fig.suptitle(\"Country vs. Democracy by Freedom of Speech\")"
   ]
  },
  {
   "cell_type": "code",
   "execution_count": 34,
   "id": "69feb699",
   "metadata": {},
   "outputs": [
    {
     "data": {
      "text/plain": [
       "Text(0.5, 0.98, 'Country vs. Democracy by Equality')"
      ]
     },
     "execution_count": 34,
     "metadata": {},
     "output_type": "execute_result"
    },
    {
     "data": {
      "image/png": "[encoded data removed]",
      "text/plain": [
       "<Figure size 1851.88x360 with 5 Axes>"
      ]
     },
     "metadata": {
      "needs_background": "light"
     },
     "output_type": "display_data"
    }
   ],
   "source": [
    "sns.catplot(col=\"q106\", hue=\"q098\", x=\"country\", data=df_sample, kind=\"count\", ax=ax)\n",
    "fig.suptitle(\"Country vs. Democracy by Equality\")"
   ]
  },
  {
   "cell_type": "code",
   "execution_count": 35,
   "id": "8e8ec12e",
   "metadata": {},
   "outputs": [
    {
     "data": {
      "text/plain": [
       "Text(0.5, 0.98, 'Country vs. Democracy by Military Run Govt')"
      ]
     },
     "execution_count": 35,
     "metadata": {},
     "output_type": "execute_result"
    },
    {
     "data": {
      "image/png": "[encoded data removed]",
      "text/plain": [
       "<Figure size 1491.88x360 with 4 Axes>"
      ]
     },
     "metadata": {
      "needs_background": "light"
     },
     "output_type": "display_data"
    }
   ],
   "source": [
    "sns.catplot(col=\"q123\", hue=\"q098\", x=\"country\", data=df_sample, kind=\"count\", ax=ax)\n",
    "fig.suptitle(\"Country vs. Democracy by Military Run Govt\")"
   ]
  },
  {
   "cell_type": "code",
   "execution_count": 36,
   "id": "858bb45a",
   "metadata": {},
   "outputs": [
    {
     "data": {
      "text/plain": [
       "Text(0.5, 0.98, 'Country vs. Democracy by Politics Knowledge')"
      ]
     },
     "execution_count": 36,
     "metadata": {},
     "output_type": "execute_result"
    },
    {
     "data": {
      "image/png": "[encoded data removed]",
      "text/plain": [
       "<Figure size 1491.88x360 with 4 Axes>"
      ]
     },
     "metadata": {
      "needs_background": "light"
     },
     "output_type": "display_data"
    }
   ],
   "source": [
    "sns.catplot(col=\"q127\", hue=\"q098\", x=\"country\", data=df_sample, kind=\"count\", ax=ax)\n",
    "fig.suptitle(\"Country vs. Democracy by Politics Knowledge\")"
   ]
  },
  {
   "cell_type": "code",
   "execution_count": null,
   "id": "95587d48",
   "metadata": {},
   "outputs": [],
   "source": []
  },
  {
   "cell_type": "markdown",
   "id": "f9090469",
   "metadata": {},
   "source": [
    "## Model Building"
   ]
  },
  {
   "cell_type": "markdown",
   "id": "cb2f36c5",
   "metadata": {},
   "source": [
    "##### Model 1: Probit Ordered Model(Democratics)"
   ]
  },
  {
   "cell_type": "code",
   "execution_count": 37,
   "id": "283e74a7",
   "metadata": {},
   "outputs": [],
   "source": [
    "train, test = train_test_split(df_sample, test_size=0.30, random_state=0, shuffle=False)"
   ]
  },
  {
   "cell_type": "code",
   "execution_count": 38,
   "id": "3ea8c4c4",
   "metadata": {},
   "outputs": [],
   "source": [
    "model = OrderedModel(train['q098'], \n",
    "                     train[['se002', 'se005', 'se009', 'se003a', 'country', 'q007', 'q008', \n",
    "                                      'q009', 'q010', 'q006', 'q128', 'q005', 'q027', 'q105', 'q106', \n",
    "                                       'q123', 'q127']], \n",
    "                     distr='probit')"
   ]
  },
  {
   "cell_type": "code",
   "execution_count": 39,
   "id": "d9be7715",
   "metadata": {},
   "outputs": [
    {
     "name": "stdout",
     "output_type": "stream",
     "text": [
      "Optimization terminated successfully.\n",
      "         Current function value: 0.918250\n",
      "         Iterations: 30\n",
      "         Function evaluations: 35\n",
      "         Gradient evaluations: 35\n"
     ]
    },
    {
     "data": {
      "text/html": [
       "<table class=\"simpletable\">\n",
       "<caption>OrderedModel Results</caption>\n",
       "<tr>\n",
       "  <th>Dep. Variable:</th>           <td>q098</td>        <th>  Log-Likelihood:    </th> <td> -51422.</td> \n",
       "</tr>\n",
       "<tr>\n",
       "  <th>Model:</th>               <td>OrderedModel</td>    <th>  AIC:               </th> <td>1.029e+05</td>\n",
       "</tr>\n",
       "<tr>\n",
       "  <th>Method:</th>           <td>Maximum Likelihood</td> <th>  BIC:               </th> <td>1.031e+05</td>\n",
       "</tr>\n",
       "<tr>\n",
       "  <th>Date:</th>              <td>Sat, 06 Nov 2021</td>  <th>                     </th>     <td> </td>    \n",
       "</tr>\n",
       "<tr>\n",
       "  <th>Time:</th>                  <td>22:07:58</td>      <th>                     </th>     <td> </td>    \n",
       "</tr>\n",
       "<tr>\n",
       "  <th>No. Observations:</th>       <td> 56000</td>       <th>                     </th>     <td> </td>    \n",
       "</tr>\n",
       "<tr>\n",
       "  <th>Df Residuals:</th>           <td> 55980</td>       <th>                     </th>     <td> </td>    \n",
       "</tr>\n",
       "<tr>\n",
       "  <th>Df Model:</th>               <td>    20</td>       <th>                     </th>     <td> </td>    \n",
       "</tr>\n",
       "</table>\n",
       "<table class=\"simpletable\">\n",
       "<tr>\n",
       "     <td></td>        <th>coef</th>     <th>std err</th>      <th>z</th>      <th>P>|z|</th>  <th>[0.025</th>    <th>0.975]</th>  \n",
       "</tr>\n",
       "<tr>\n",
       "  <th>se002</th>   <td>   -0.0367</td> <td>    0.010</td> <td>   -3.749</td> <td> 0.000</td> <td>   -0.056</td> <td>   -0.017</td>\n",
       "</tr>\n",
       "<tr>\n",
       "  <th>se005</th>   <td>   -0.0265</td> <td>    0.003</td> <td>  -10.359</td> <td> 0.000</td> <td>   -0.031</td> <td>   -0.021</td>\n",
       "</tr>\n",
       "<tr>\n",
       "  <th>se009</th>   <td>   -0.0172</td> <td>    0.003</td> <td>   -5.007</td> <td> 0.000</td> <td>   -0.024</td> <td>   -0.010</td>\n",
       "</tr>\n",
       "<tr>\n",
       "  <th>se003a</th>  <td>    0.0020</td> <td>    0.000</td> <td>    4.788</td> <td> 0.000</td> <td>    0.001</td> <td>    0.003</td>\n",
       "</tr>\n",
       "<tr>\n",
       "  <th>country</th> <td>    0.0156</td> <td>    0.004</td> <td>    4.300</td> <td> 0.000</td> <td>    0.009</td> <td>    0.023</td>\n",
       "</tr>\n",
       "<tr>\n",
       "  <th>q007</th>    <td>    0.1408</td> <td>    0.007</td> <td>   19.670</td> <td> 0.000</td> <td>    0.127</td> <td>    0.155</td>\n",
       "</tr>\n",
       "<tr>\n",
       "  <th>q008</th>    <td>    0.0827</td> <td>    0.008</td> <td>   10.968</td> <td> 0.000</td> <td>    0.068</td> <td>    0.097</td>\n",
       "</tr>\n",
       "<tr>\n",
       "  <th>q009</th>    <td>    0.0567</td> <td>    0.007</td> <td>    7.718</td> <td> 0.000</td> <td>    0.042</td> <td>    0.071</td>\n",
       "</tr>\n",
       "<tr>\n",
       "  <th>q010</th>    <td>    0.1135</td> <td>    0.008</td> <td>   14.663</td> <td> 0.000</td> <td>    0.098</td> <td>    0.129</td>\n",
       "</tr>\n",
       "<tr>\n",
       "  <th>q006</th>    <td>    0.0966</td> <td>    0.006</td> <td>   16.368</td> <td> 0.000</td> <td>    0.085</td> <td>    0.108</td>\n",
       "</tr>\n",
       "<tr>\n",
       "  <th>q128</th>    <td>    0.0729</td> <td>    0.006</td> <td>   11.575</td> <td> 0.000</td> <td>    0.061</td> <td>    0.085</td>\n",
       "</tr>\n",
       "<tr>\n",
       "  <th>q005</th>    <td>    0.0735</td> <td>    0.006</td> <td>   13.313</td> <td> 0.000</td> <td>    0.063</td> <td>    0.084</td>\n",
       "</tr>\n",
       "<tr>\n",
       "  <th>q027</th>    <td>    0.0413</td> <td>    0.013</td> <td>    3.151</td> <td> 0.002</td> <td>    0.016</td> <td>    0.067</td>\n",
       "</tr>\n",
       "<tr>\n",
       "  <th>q105</th>    <td>    0.0770</td> <td>    0.006</td> <td>   13.093</td> <td> 0.000</td> <td>    0.065</td> <td>    0.089</td>\n",
       "</tr>\n",
       "<tr>\n",
       "  <th>q106</th>    <td>    0.1725</td> <td>    0.006</td> <td>   30.508</td> <td> 0.000</td> <td>    0.161</td> <td>    0.184</td>\n",
       "</tr>\n",
       "<tr>\n",
       "  <th>q123</th>    <td>    0.0057</td> <td>    0.007</td> <td>    0.782</td> <td> 0.434</td> <td>   -0.009</td> <td>    0.020</td>\n",
       "</tr>\n",
       "<tr>\n",
       "  <th>q127</th>    <td>   -0.0208</td> <td>    0.007</td> <td>   -3.127</td> <td> 0.002</td> <td>   -0.034</td> <td>   -0.008</td>\n",
       "</tr>\n",
       "<tr>\n",
       "  <th>1.0/2.0</th> <td>    0.7018</td> <td>    0.058</td> <td>   12.003</td> <td> 0.000</td> <td>    0.587</td> <td>    0.816</td>\n",
       "</tr>\n",
       "<tr>\n",
       "  <th>2.0/3.0</th> <td>    0.3416</td> <td>    0.007</td> <td>   48.479</td> <td> 0.000</td> <td>    0.328</td> <td>    0.355</td>\n",
       "</tr>\n",
       "<tr>\n",
       "  <th>3.0/4.0</th> <td>    0.7448</td> <td>    0.005</td> <td>  154.824</td> <td> 0.000</td> <td>    0.735</td> <td>    0.754</td>\n",
       "</tr>\n",
       "</table>"
      ],
      "text/plain": [
       "<class 'statsmodels.iolib.summary.Summary'>\n",
       "\"\"\"\n",
       "                             OrderedModel Results                             \n",
       "==============================================================================\n",
       "Dep. Variable:                   q098   Log-Likelihood:                -51422.\n",
       "Model:                   OrderedModel   AIC:                         1.029e+05\n",
       "Method:            Maximum Likelihood   BIC:                         1.031e+05\n",
       "Date:                Sat, 06 Nov 2021                                         \n",
       "Time:                        22:07:58                                         \n",
       "No. Observations:               56000                                         \n",
       "Df Residuals:                   55980                                         \n",
       "Df Model:                          20                                         \n",
       "==============================================================================\n",
       "                 coef    std err          z      P>|z|      [0.025      0.975]\n",
       "------------------------------------------------------------------------------\n",
       "se002         -0.0367      0.010     -3.749      0.000      -0.056      -0.017\n",
       "se005         -0.0265      0.003    -10.359      0.000      -0.031      -0.021\n",
       "se009         -0.0172      0.003     -5.007      0.000      -0.024      -0.010\n",
       "se003a         0.0020      0.000      4.788      0.000       0.001       0.003\n",
       "country        0.0156      0.004      4.300      0.000       0.009       0.023\n",
       "q007           0.1408      0.007     19.670      0.000       0.127       0.155\n",
       "q008           0.0827      0.008     10.968      0.000       0.068       0.097\n",
       "q009           0.0567      0.007      7.718      0.000       0.042       0.071\n",
       "q010           0.1135      0.008     14.663      0.000       0.098       0.129\n",
       "q006           0.0966      0.006     16.368      0.000       0.085       0.108\n",
       "q128           0.0729      0.006     11.575      0.000       0.061       0.085\n",
       "q005           0.0735      0.006     13.313      0.000       0.063       0.084\n",
       "q027           0.0413      0.013      3.151      0.002       0.016       0.067\n",
       "q105           0.0770      0.006     13.093      0.000       0.065       0.089\n",
       "q106           0.1725      0.006     30.508      0.000       0.161       0.184\n",
       "q123           0.0057      0.007      0.782      0.434      -0.009       0.020\n",
       "q127          -0.0208      0.007     -3.127      0.002      -0.034      -0.008\n",
       "1.0/2.0        0.7018      0.058     12.003      0.000       0.587       0.816\n",
       "2.0/3.0        0.3416      0.007     48.479      0.000       0.328       0.355\n",
       "3.0/4.0        0.7448      0.005    154.824      0.000       0.735       0.754\n",
       "==============================================================================\n",
       "\"\"\""
      ]
     },
     "execution_count": 39,
     "metadata": {},
     "output_type": "execute_result"
    }
   ],
   "source": [
    "res_prob = model.fit(method='bfgs')\n",
    "res_prob.summary()"
   ]
  },
  {
   "cell_type": "markdown",
   "id": "60bc9eca",
   "metadata": {},
   "source": [
    "##### Predict test values"
   ]
  },
  {
   "cell_type": "code",
   "execution_count": 40,
   "id": "75f3360d",
   "metadata": {},
   "outputs": [
    {
     "data": {
      "text/plain": [
       "array([[0.02243391, 0.25224916, 0.65943806, 0.06587887],\n",
       "       [0.01024516, 0.17114896, 0.70272867, 0.11587721],\n",
       "       [0.02204808, 0.2502112 , 0.66092347, 0.06681725],\n",
       "       ...,\n",
       "       [0.00994122, 0.16848541, 0.70347349, 0.11809988],\n",
       "       [0.0183275 , 0.22916399, 0.6752146 , 0.07729392],\n",
       "       [0.00744708, 0.14458401, 0.70748674, 0.14048217]])"
      ]
     },
     "execution_count": 40,
     "metadata": {},
     "output_type": "execute_result"
    }
   ],
   "source": [
    "predicted = res_prob.model.predict(res_prob.params, \n",
    "                                   exog=test[['se002', 'se005', 'se009', 'se003a', \n",
    "                                    'country', 'q007', 'q008', \n",
    "                                      'q009', 'q010', 'q006', 'q128', 'q005', 'q027', 'q105', 'q106', \n",
    "                                       'q123', 'q127']])\n",
    "predicted"
   ]
  },
  {
   "cell_type": "markdown",
   "id": "c51524bd",
   "metadata": {},
   "source": [
    "##### Acurracy of the model"
   ]
  },
  {
   "cell_type": "code",
   "execution_count": 41,
   "id": "56b1226b",
   "metadata": {},
   "outputs": [
    {
     "name": "stdout",
     "output_type": "stream",
     "text": [
      "Percentage of correct choice predictions\n",
      "24.054166666666667\n"
     ]
    }
   ],
   "source": [
    "pred_choice = predicted.argmax(1)\n",
    "print('Percentage of correct choice predictions')\n",
    "print((np.asarray(test['q098'].values) == pred_choice).mean()*100)"
   ]
  },
  {
   "cell_type": "markdown",
   "id": "9af9206c",
   "metadata": {},
   "source": [
    "### Feature Selection"
   ]
  },
  {
   "cell_type": "markdown",
   "id": "6c1d6ebc",
   "metadata": {},
   "source": [
    "#### Backward Elimination Feature Importance Test"
   ]
  },
  {
   "cell_type": "code",
   "execution_count": 42,
   "id": "6f6b53b2",
   "metadata": {},
   "outputs": [
    {
     "data": {
      "text/plain": [
       "array(['country', 'se002', 'se005', 'se009', 'se003a', 'q007', 'q008',\n",
       "       'q009', 'q010', 'q006', 'q128', 'q005', 'q027', 'q105', 'q106',\n",
       "       'q123'], dtype=object)"
      ]
     },
     "execution_count": 42,
     "metadata": {},
     "output_type": "execute_result"
    }
   ],
   "source": [
    "selected_columns = df_sample.drop(['q098'], axis = 1).columns.values\n",
    "\n",
    "def backwardElimination(x, Y, sl, columns):\n",
    "    numVars = len(x[0])\n",
    "    for i in range(0, numVars):\n",
    "        regressor_OLS = sm.OLS(Y, x).fit()\n",
    "        maxVar = max(regressor_OLS.pvalues).astype(float)\n",
    "        if maxVar > sl:\n",
    "            for j in range(0, numVars - i):\n",
    "                if (regressor_OLS.pvalues[j].astype(float) == maxVar):\n",
    "                    x = np.delete(x, j, 1)\n",
    "                    columns = np.delete(columns, j)\n",
    " \n",
    "    regressor_OLS.summary()\n",
    "    return x, columns\n",
    "SL = 0.05\n",
    "data_modeled, selected_columns = backwardElimination(df_sample.drop(['q098'], axis = 1).values, df_sample.loc[:,\"q098\"].values, SL, selected_columns)\n",
    "selected_columns"
   ]
  },
  {
   "cell_type": "markdown",
   "id": "82bb56fd",
   "metadata": {},
   "source": [
    "#### Chi-squared Feature Importance Test"
   ]
  },
  {
   "cell_type": "code",
   "execution_count": 43,
   "id": "70ab674d",
   "metadata": {},
   "outputs": [
    {
     "data": {
      "text/plain": [
       "['country',\n",
       " 'se005',\n",
       " 'q007',\n",
       " 'q008',\n",
       " 'q009',\n",
       " 'q010',\n",
       " 'q006',\n",
       " 'q005',\n",
       " 'q105',\n",
       " 'q106',\n",
       " 'q127']"
      ]
     },
     "execution_count": 43,
     "metadata": {},
     "output_type": "execute_result"
    }
   ],
   "source": [
    "X = df_sample.drop([\"q098\"], axis = 1)\n",
    "y = df_sample.loc[:,\"q098\"]\n",
    "\n",
    "X_norm = MinMaxScaler().fit_transform(X)\n",
    "chi_selector = SelectKBest(chi2, k=11)\n",
    "chi_selector.fit(X_norm, y)\n",
    "chi_support = chi_selector.get_support()\n",
    "chi_feature = X.loc[:,chi_support].columns.tolist()\n",
    "chi_feature"
   ]
  },
  {
   "cell_type": "markdown",
   "id": "91191982",
   "metadata": {},
   "source": [
    "#### F-score Feature Importance Test"
   ]
  },
  {
   "cell_type": "code",
   "execution_count": 44,
   "id": "e51d0d44",
   "metadata": {},
   "outputs": [
    {
     "name": "stdout",
     "output_type": "stream",
     "text": [
      "  Feat_names     F_Scores\n",
      "3       q008  2298.560487\n",
      "5       q010  2204.266291\n",
      "4       q009  1894.020258\n",
      "9       q106  1790.734317\n",
      "2       q007  1691.142071\n",
      "0    country  1575.428548\n",
      "1      se005  1568.356294\n",
      "8       q105   604.395367\n",
      "6       q006   541.796066\n",
      "7       q005   475.849604\n"
     ]
    }
   ],
   "source": [
    "kb = fs.SelectKBest(k=10)\n",
    "kb.fit(X, y.values.ravel())\n",
    "names = X.columns.values[kb.get_support()]\n",
    "scores = kb.scores_[kb.get_support()]\n",
    "names_scores = list(zip(names, scores))\n",
    "ns_df = pd.DataFrame(data = names_scores, columns=['Feat_names','F_Scores'])\n",
    "ns_df_sorted = ns_df.sort_values(['F_Scores','Feat_names'], ascending =[False, True])\n",
    "print(ns_df_sorted)"
   ]
  },
  {
   "cell_type": "markdown",
   "id": "e674d96b",
   "metadata": {},
   "source": [
    "## Train Test Split for Random Forest"
   ]
  },
  {
   "cell_type": "code",
   "execution_count": 45,
   "id": "bf0f45a2",
   "metadata": {},
   "outputs": [],
   "source": [
    "X_train, X_test, y_train, y_test = train_test_split(X, y, shuffle=True, test_size=\n",
    "0.3, random_state=0)"
   ]
  },
  {
   "cell_type": "markdown",
   "id": "a094e8a3",
   "metadata": {},
   "source": [
    "## Baseline Model: Random Forest With Default Parameters"
   ]
  },
  {
   "cell_type": "code",
   "execution_count": null,
   "id": "0f3f6dc2",
   "metadata": {},
   "outputs": [],
   "source": []
  },
  {
   "cell_type": "code",
   "execution_count": 46,
   "id": "971c8f1a",
   "metadata": {},
   "outputs": [
    {
     "data": {
      "text/plain": [
       "0.9932083333333334"
      ]
     },
     "execution_count": 46,
     "metadata": {},
     "output_type": "execute_result"
    }
   ],
   "source": [
    "base_random_forest = RandomForestClassifier(n_jobs = -1, random_state=0)\n",
    "base_random_forest.fit(X_train, y_train.values.ravel())\n",
    "base_random_forest.score(X_test, y_test.values.ravel())"
   ]
  },
  {
   "cell_type": "code",
   "execution_count": 47,
   "id": "3847239d",
   "metadata": {},
   "outputs": [
    {
     "data": {
      "text/plain": [
       "0.9999464285714286"
      ]
     },
     "execution_count": 47,
     "metadata": {},
     "output_type": "execute_result"
    }
   ],
   "source": [
    "base_random_forest.score(X_train, y_train.values.ravel())"
   ]
  },
  {
   "cell_type": "markdown",
   "id": "a19a6df1",
   "metadata": {},
   "source": [
    "### Per class confusion matrix"
   ]
  },
  {
   "cell_type": "code",
   "execution_count": 48,
   "id": "12c085c2",
   "metadata": {},
   "outputs": [
    {
     "data": {
      "text/plain": [
       "array([[ 1121,     2,     2,     0],\n",
       "       [    0,  6785,    71,     1],\n",
       "       [    0,    16, 13526,    11],\n",
       "       [    0,     0,    60,  2405]])"
      ]
     },
     "execution_count": 48,
     "metadata": {},
     "output_type": "execute_result"
    }
   ],
   "source": [
    "y_true = y_test.values.ravel()\n",
    "y_pred = base_random_forest.predict(X_test)\n",
    "confusion_matrix(y_true, y_pred)"
   ]
  },
  {
   "cell_type": "markdown",
   "id": "075e071c",
   "metadata": {},
   "source": [
    "## Trimming Random Forest Model Using Randomized Search Cross Validation"
   ]
  },
  {
   "cell_type": "markdown",
   "id": "06b63ff2",
   "metadata": {},
   "source": [
    "To tune the parameters of the random forest, we plan to use the randomized search cross validation to find the best set of parameters within that range. Once we have done so, we will re-fit the random forest model with new parameters."
   ]
  },
  {
   "cell_type": "code",
   "execution_count": 49,
   "id": "1baf9254",
   "metadata": {},
   "outputs": [],
   "source": [
    "n_estimators = [int(x) for x in np.linspace(100, 500, 50)]\n",
    "max_features = ['auto', 'sqrt']\n",
    "max_depth = [int(x) for x in np.linspace(10, 100, 10)]\n",
    "min_samples_split = [int(x) for x in np.linspace(2, 10, 2)]\n",
    "min_samples_leaf = [int(x) for x in np.linspace(0, 10, 2)]\n",
    "bootstrap = [True, False]"
   ]
  },
  {
   "cell_type": "code",
   "execution_count": 50,
   "id": "dd472e7f",
   "metadata": {},
   "outputs": [],
   "source": [
    "#turn the arrays into a grid dictionary\n",
    "random_grid = {'n_estimators': n_estimators,\n",
    " 'max_features': max_features,\n",
    " 'max_depth': max_depth,\n",
    " 'min_samples_split': min_samples_split,\n",
    " 'min_samples_leaf': min_samples_leaf,\n",
    " 'bootstrap': bootstrap}"
   ]
  },
  {
   "cell_type": "code",
   "execution_count": 51,
   "id": "bc4c27ce",
   "metadata": {},
   "outputs": [
    {
     "name": "stdout",
     "output_type": "stream",
     "text": [
      "Fitting 3 folds for each of 50 candidates, totalling 150 fits\n"
     ]
    },
    {
     "data": {
      "text/plain": [
       "{'n_estimators': 500,\n",
       " 'min_samples_split': 10,\n",
       " 'min_samples_leaf': 10,\n",
       " 'max_features': 'sqrt',\n",
       " 'max_depth': 90,\n",
       " 'bootstrap': False}"
      ]
     },
     "execution_count": 51,
     "metadata": {},
     "output_type": "execute_result"
    },
    {
     "name": "stdout",
     "output_type": "stream",
     "text": [
      
     ]
    },
    {
     "name": "stdout",
     "output_type": "stream",
     "text": [
      
     ]
    }
   ],
   "source": [
    "#class-weight set to balanced to avoid issues brought by imbalanced dataset\n",
    "model = RandomForestClassifier(n_jobs = -1, random_state=0)\n",
    "# 3 fold cross validation on 100 combinations of random forest parameters\n",
    "random_search_model = RandomizedSearchCV(estimator = model, param_distributions = random_grid, n_iter = 50, cv = 3, verbose=2, random_state=0, n_jobs = -1)\n",
    "random_search_model.fit(X_train, y_train)\n",
    "random_search_model.best_params_ #get the best combination of parameters"
   ]
  },
  {
   "cell_type": "markdown",
   "id": "3922dc8e",
   "metadata": {},
   "source": [
    "Now, the grid is fed to the model. The RandomizedSearchCV model will utilize the random forest classifier and implement 3-fold cross-validations on 100 combinations of model parameters."
   ]
  },
  {
   "cell_type": "code",
   "execution_count": 52,
   "id": "0c26d71d",
   "metadata": {},
   "outputs": [],
   "source": [
    "#set up the random forest model with tuned parameters and fit the training data\n",
    "Forest = RandomForestClassifier(n_jobs = -1, random_state = 0, n_estimators= 500, \n",
    "                                min_samples_split = 10, min_samples_leaf = 10, \n",
    "                                max_features = 'sqrt', max_depth=90, bootstrap = False).fit(X_train, y_train.values.ravel())"
   ]
  },
  {
   "cell_type": "code",
   "execution_count": 53,
   "id": "bf1ea3a0",
   "metadata": {},
   "outputs": [
    {
     "data": {
      "text/plain": [
       "0.9614285714285714"
      ]
     },
     "execution_count": 53,
     "metadata": {},
     "output_type": "execute_result"
    }
   ],
   "source": [
    "Forest.score(X_train, y_train)"
   ]
  },
  {
   "cell_type": "code",
   "execution_count": 54,
   "id": "93ab3baa",
   "metadata": {},
   "outputs": [
    {
     "data": {
      "text/plain": [
       "0.9342916666666666"
      ]
     },
     "execution_count": 54,
     "metadata": {},
     "output_type": "execute_result"
    }
   ],
   "source": [
    "Forest.score(X_test, y_test)"
   ]
  },
  {
   "cell_type": "code",
   "execution_count": 55,
   "id": "9bb3b31d",
   "metadata": {},
   "outputs": [
    {
     "data": {
      "text/plain": [
       "array([[  887,    81,   154,     3],\n",
       "       [    0,  6193,   652,    12],\n",
       "       [    0,    58, 13475,    20],\n",
       "       [    0,    30,   567,  1868]])"
      ]
     },
     "execution_count": 55,
     "metadata": {},
     "output_type": "execute_result"
    }
   ],
   "source": [
    "y_true = y_test.values.ravel()\n",
    "y_pred = Forest.predict(X_test)\n",
    "confusion_matrix(y_true, y_pred)"
   ]
  },
  {
   "cell_type": "markdown",
   "id": "b4910d05",
   "metadata": {},
   "source": [
    "This decrease in accuracy is expected as the baseline model's depth of the trees is a lot larger than the tuned model, which\n",
    "brought up the overfitting problem.\n",
    "We deliberately shrinked the depth of each tree in the random forest in order to avoid overfitting issue, which caused the counts of false positives to increase."
   ]
  },
  {
   "cell_type": "markdown",
   "id": "8361d98f",
   "metadata": {},
   "source": [
    "## Final Results and Predictions"
   ]
  },
  {
   "cell_type": "code",
   "execution_count": 56,
   "id": "ac28ac10",
   "metadata": {},
   "outputs": [
    {
     "data": {
      "text/plain": [
       "array([3., 2., 3., ..., 3., 3., 3.])"
      ]
     },
     "execution_count": 56,
     "metadata": {},
     "output_type": "execute_result"
    }
   ],
   "source": [
    "y_pred"
   ]
  },
  {
   "cell_type": "code",
   "execution_count": 57,
   "id": "9a56f890",
   "metadata": {},
   "outputs": [
    {
     "data": {
      "text/html": [
       "<div>\n",
       "<style scoped>\n",
       "    .dataframe tbody tr th:only-of-type {\n",
       "        vertical-align: middle;\n",
       "    }\n",
       "\n",
       "    .dataframe tbody tr th {\n",
       "        vertical-align: top;\n",
       "    }\n",
       "\n",
       "    .dataframe thead th {\n",
       "        text-align: right;\n",
       "    }\n",
       "</style>\n",
       "<table border=\"1\" class=\"dataframe\">\n",
       "  <thead>\n",
       "    <tr style=\"text-align: right;\">\n",
       "      <th></th>\n",
       "      <th>country</th>\n",
       "      <th>se002</th>\n",
       "      <th>se005</th>\n",
       "      <th>se009</th>\n",
       "      <th>se003a</th>\n",
       "      <th>q007</th>\n",
       "      <th>q008</th>\n",
       "      <th>q009</th>\n",
       "      <th>q010</th>\n",
       "      <th>q006</th>\n",
       "      <th>q128</th>\n",
       "      <th>q005</th>\n",
       "      <th>q027</th>\n",
       "      <th>q105</th>\n",
       "      <th>q106</th>\n",
       "      <th>q123</th>\n",
       "      <th>q127</th>\n",
       "    </tr>\n",
       "  </thead>\n",
       "  <tbody>\n",
       "    <tr>\n",
       "      <th>7389</th>\n",
       "      <td>1.0</td>\n",
       "      <td>1.0</td>\n",
       "      <td>7.0</td>\n",
       "      <td>2.0</td>\n",
       "      <td>76.0</td>\n",
       "      <td>3.0</td>\n",
       "      <td>3.0</td>\n",
       "      <td>1.0</td>\n",
       "      <td>1.0</td>\n",
       "      <td>3.0</td>\n",
       "      <td>1.0</td>\n",
       "      <td>3.0</td>\n",
       "      <td>1.0</td>\n",
       "      <td>5.0</td>\n",
       "      <td>5.0</td>\n",
       "      <td>1.0</td>\n",
       "      <td>1.0</td>\n",
       "    </tr>\n",
       "    <tr>\n",
       "      <th>3509</th>\n",
       "      <td>1.0</td>\n",
       "      <td>1.0</td>\n",
       "      <td>2.0</td>\n",
       "      <td>5.0</td>\n",
       "      <td>73.0</td>\n",
       "      <td>2.0</td>\n",
       "      <td>2.0</td>\n",
       "      <td>2.0</td>\n",
       "      <td>2.0</td>\n",
       "      <td>4.0</td>\n",
       "      <td>4.0</td>\n",
       "      <td>3.0</td>\n",
       "      <td>2.0</td>\n",
       "      <td>4.0</td>\n",
       "      <td>3.0</td>\n",
       "      <td>4.0</td>\n",
       "      <td>1.0</td>\n",
       "    </tr>\n",
       "    <tr>\n",
       "      <th>30661</th>\n",
       "      <td>4.0</td>\n",
       "      <td>2.0</td>\n",
       "      <td>9.0</td>\n",
       "      <td>5.0</td>\n",
       "      <td>38.0</td>\n",
       "      <td>3.0</td>\n",
       "      <td>4.0</td>\n",
       "      <td>4.0</td>\n",
       "      <td>4.0</td>\n",
       "      <td>3.0</td>\n",
       "      <td>4.0</td>\n",
       "      <td>3.0</td>\n",
       "      <td>2.0</td>\n",
       "      <td>5.0</td>\n",
       "      <td>5.0</td>\n",
       "      <td>4.0</td>\n",
       "      <td>2.0</td>\n",
       "    </tr>\n",
       "    <tr>\n",
       "      <th>63191</th>\n",
       "      <td>7.0</td>\n",
       "      <td>2.0</td>\n",
       "      <td>7.0</td>\n",
       "      <td>3.0</td>\n",
       "      <td>37.0</td>\n",
       "      <td>2.0</td>\n",
       "      <td>1.0</td>\n",
       "      <td>2.0</td>\n",
       "      <td>2.0</td>\n",
       "      <td>4.0</td>\n",
       "      <td>2.0</td>\n",
       "      <td>3.0</td>\n",
       "      <td>2.0</td>\n",
       "      <td>4.0</td>\n",
       "      <td>3.0</td>\n",
       "      <td>3.0</td>\n",
       "      <td>2.0</td>\n",
       "    </tr>\n",
       "    <tr>\n",
       "      <th>38241</th>\n",
       "      <td>4.0</td>\n",
       "      <td>1.0</td>\n",
       "      <td>3.0</td>\n",
       "      <td>5.0</td>\n",
       "      <td>32.0</td>\n",
       "      <td>2.0</td>\n",
       "      <td>4.0</td>\n",
       "      <td>4.0</td>\n",
       "      <td>4.0</td>\n",
       "      <td>4.0</td>\n",
       "      <td>2.0</td>\n",
       "      <td>4.0</td>\n",
       "      <td>2.0</td>\n",
       "      <td>1.0</td>\n",
       "      <td>4.0</td>\n",
       "      <td>2.0</td>\n",
       "      <td>2.0</td>\n",
       "    </tr>\n",
       "    <tr>\n",
       "      <th>...</th>\n",
       "      <td>...</td>\n",
       "      <td>...</td>\n",
       "      <td>...</td>\n",
       "      <td>...</td>\n",
       "      <td>...</td>\n",
       "      <td>...</td>\n",
       "      <td>...</td>\n",
       "      <td>...</td>\n",
       "      <td>...</td>\n",
       "      <td>...</td>\n",
       "      <td>...</td>\n",
       "      <td>...</td>\n",
       "      <td>...</td>\n",
       "      <td>...</td>\n",
       "      <td>...</td>\n",
       "      <td>...</td>\n",
       "      <td>...</td>\n",
       "    </tr>\n",
       "    <tr>\n",
       "      <th>64094</th>\n",
       "      <td>7.0</td>\n",
       "      <td>1.0</td>\n",
       "      <td>9.0</td>\n",
       "      <td>4.0</td>\n",
       "      <td>31.0</td>\n",
       "      <td>3.0</td>\n",
       "      <td>3.0</td>\n",
       "      <td>3.0</td>\n",
       "      <td>2.0</td>\n",
       "      <td>4.0</td>\n",
       "      <td>2.0</td>\n",
       "      <td>4.0</td>\n",
       "      <td>2.0</td>\n",
       "      <td>5.0</td>\n",
       "      <td>3.0</td>\n",
       "      <td>4.0</td>\n",
       "      <td>3.0</td>\n",
       "    </tr>\n",
       "    <tr>\n",
       "      <th>59224</th>\n",
       "      <td>6.0</td>\n",
       "      <td>2.0</td>\n",
       "      <td>9.0</td>\n",
       "      <td>4.0</td>\n",
       "      <td>32.0</td>\n",
       "      <td>2.0</td>\n",
       "      <td>2.0</td>\n",
       "      <td>2.0</td>\n",
       "      <td>2.0</td>\n",
       "      <td>3.0</td>\n",
       "      <td>2.0</td>\n",
       "      <td>2.0</td>\n",
       "      <td>2.0</td>\n",
       "      <td>5.0</td>\n",
       "      <td>3.0</td>\n",
       "      <td>2.0</td>\n",
       "      <td>2.0</td>\n",
       "    </tr>\n",
       "    <tr>\n",
       "      <th>39672</th>\n",
       "      <td>4.0</td>\n",
       "      <td>2.0</td>\n",
       "      <td>8.0</td>\n",
       "      <td>5.0</td>\n",
       "      <td>32.0</td>\n",
       "      <td>2.0</td>\n",
       "      <td>4.0</td>\n",
       "      <td>4.0</td>\n",
       "      <td>4.0</td>\n",
       "      <td>5.0</td>\n",
       "      <td>3.0</td>\n",
       "      <td>4.0</td>\n",
       "      <td>2.0</td>\n",
       "      <td>5.0</td>\n",
       "      <td>4.0</td>\n",
       "      <td>3.0</td>\n",
       "      <td>2.0</td>\n",
       "    </tr>\n",
       "    <tr>\n",
       "      <th>8419</th>\n",
       "      <td>1.0</td>\n",
       "      <td>2.0</td>\n",
       "      <td>8.0</td>\n",
       "      <td>5.0</td>\n",
       "      <td>30.0</td>\n",
       "      <td>3.0</td>\n",
       "      <td>2.0</td>\n",
       "      <td>1.0</td>\n",
       "      <td>1.0</td>\n",
       "      <td>2.0</td>\n",
       "      <td>3.0</td>\n",
       "      <td>2.0</td>\n",
       "      <td>2.0</td>\n",
       "      <td>5.0</td>\n",
       "      <td>3.0</td>\n",
       "      <td>4.0</td>\n",
       "      <td>2.0</td>\n",
       "    </tr>\n",
       "    <tr>\n",
       "      <th>74243</th>\n",
       "      <td>8.0</td>\n",
       "      <td>1.0</td>\n",
       "      <td>2.0</td>\n",
       "      <td>2.0</td>\n",
       "      <td>39.0</td>\n",
       "      <td>4.0</td>\n",
       "      <td>2.0</td>\n",
       "      <td>2.0</td>\n",
       "      <td>2.0</td>\n",
       "      <td>3.0</td>\n",
       "      <td>1.0</td>\n",
       "      <td>4.0</td>\n",
       "      <td>2.0</td>\n",
       "      <td>4.0</td>\n",
       "      <td>4.0</td>\n",
       "      <td>4.0</td>\n",
       "      <td>1.0</td>\n",
       "    </tr>\n",
       "  </tbody>\n",
       "</table>\n",
       "<p>24000 rows × 17 columns</p>\n",
       "</div>"
      ],
      "text/plain": [
       "       country  se002  se005  se009  se003a  q007  q008  q009  q010  q006  \\\n",
       "7389       1.0    1.0    7.0    2.0    76.0   3.0   3.0   1.0   1.0   3.0   \n",
       "3509       1.0    1.0    2.0    5.0    73.0   2.0   2.0   2.0   2.0   4.0   \n",
       "30661      4.0    2.0    9.0    5.0    38.0   3.0   4.0   4.0   4.0   3.0   \n",
       "63191      7.0    2.0    7.0    3.0    37.0   2.0   1.0   2.0   2.0   4.0   \n",
       "38241      4.0    1.0    3.0    5.0    32.0   2.0   4.0   4.0   4.0   4.0   \n",
       "...        ...    ...    ...    ...     ...   ...   ...   ...   ...   ...   \n",
       "64094      7.0    1.0    9.0    4.0    31.0   3.0   3.0   3.0   2.0   4.0   \n",
       "59224      6.0    2.0    9.0    4.0    32.0   2.0   2.0   2.0   2.0   3.0   \n",
       "39672      4.0    2.0    8.0    5.0    32.0   2.0   4.0   4.0   4.0   5.0   \n",
       "8419       1.0    2.0    8.0    5.0    30.0   3.0   2.0   1.0   1.0   2.0   \n",
       "74243      8.0    1.0    2.0    2.0    39.0   4.0   2.0   2.0   2.0   3.0   \n",
       "\n",
       "       q128  q005  q027  q105  q106  q123  q127  \n",
       "7389    1.0   3.0   1.0   5.0   5.0   1.0   1.0  \n",
       "3509    4.0   3.0   2.0   4.0   3.0   4.0   1.0  \n",
       "30661   4.0   3.0   2.0   5.0   5.0   4.0   2.0  \n",
       "63191   2.0   3.0   2.0   4.0   3.0   3.0   2.0  \n",
       "38241   2.0   4.0   2.0   1.0   4.0   2.0   2.0  \n",
       "...     ...   ...   ...   ...   ...   ...   ...  \n",
       "64094   2.0   4.0   2.0   5.0   3.0   4.0   3.0  \n",
       "59224   2.0   2.0   2.0   5.0   3.0   2.0   2.0  \n",
       "39672   3.0   4.0   2.0   5.0   4.0   3.0   2.0  \n",
       "8419    3.0   2.0   2.0   5.0   3.0   4.0   2.0  \n",
       "74243   1.0   4.0   2.0   4.0   4.0   4.0   1.0  \n",
       "\n",
       "[24000 rows x 17 columns]"
      ]
     },
     "execution_count": 57,
     "metadata": {},
     "output_type": "execute_result"
    }
   ],
   "source": [
    "X_test"
   ]
  },
  {
   "cell_type": "code",
   "execution_count": 58,
   "id": "9077ea6e",
   "metadata": {},
   "outputs": [
    {
     "data": {
      "text/html": [
       "<div>\n",
       "<style scoped>\n",
       "    .dataframe tbody tr th:only-of-type {\n",
       "        vertical-align: middle;\n",
       "    }\n",
       "\n",
       "    .dataframe tbody tr th {\n",
       "        vertical-align: top;\n",
       "    }\n",
       "\n",
       "    .dataframe thead th {\n",
       "        text-align: right;\n",
       "    }\n",
       "</style>\n",
       "<table border=\"1\" class=\"dataframe\">\n",
       "  <thead>\n",
       "    <tr style=\"text-align: right;\">\n",
       "      <th></th>\n",
       "      <th>se002</th>\n",
       "      <th>se005</th>\n",
       "      <th>se009</th>\n",
       "      <th>se003a</th>\n",
       "      <th>q007</th>\n",
       "      <th>q008</th>\n",
       "      <th>q009</th>\n",
       "      <th>q010</th>\n",
       "      <th>q006</th>\n",
       "      <th>q128</th>\n",
       "      <th>q005</th>\n",
       "      <th>q027</th>\n",
       "      <th>q105</th>\n",
       "      <th>q106</th>\n",
       "      <th>q123</th>\n",
       "      <th>q127</th>\n",
       "    </tr>\n",
       "    <tr>\n",
       "      <th>country</th>\n",
       "      <th></th>\n",
       "      <th></th>\n",
       "      <th></th>\n",
       "      <th></th>\n",
       "      <th></th>\n",
       "      <th></th>\n",
       "      <th></th>\n",
       "      <th></th>\n",
       "      <th></th>\n",
       "      <th></th>\n",
       "      <th></th>\n",
       "      <th></th>\n",
       "      <th></th>\n",
       "      <th></th>\n",
       "      <th></th>\n",
       "      <th></th>\n",
       "    </tr>\n",
       "  </thead>\n",
       "  <tbody>\n",
       "    <tr>\n",
       "      <th>1.0</th>\n",
       "      <td>1.534176</td>\n",
       "      <td>6.605947</td>\n",
       "      <td>3.471975</td>\n",
       "      <td>50.809296</td>\n",
       "      <td>2.841080</td>\n",
       "      <td>2.371497</td>\n",
       "      <td>2.004443</td>\n",
       "      <td>2.050581</td>\n",
       "      <td>2.939508</td>\n",
       "      <td>2.347232</td>\n",
       "      <td>2.427204</td>\n",
       "      <td>1.785031</td>\n",
       "      <td>4.427888</td>\n",
       "      <td>3.592618</td>\n",
       "      <td>3.836637</td>\n",
       "      <td>2.194463</td>\n",
       "    </tr>\n",
       "    <tr>\n",
       "      <th>2.0</th>\n",
       "      <td>1.541794</td>\n",
       "      <td>5.292386</td>\n",
       "      <td>3.017936</td>\n",
       "      <td>43.841963</td>\n",
       "      <td>2.891371</td>\n",
       "      <td>2.795939</td>\n",
       "      <td>2.614552</td>\n",
       "      <td>2.809137</td>\n",
       "      <td>3.172250</td>\n",
       "      <td>2.233164</td>\n",
       "      <td>2.470051</td>\n",
       "      <td>1.832826</td>\n",
       "      <td>2.921827</td>\n",
       "      <td>2.732995</td>\n",
       "      <td>3.141794</td>\n",
       "      <td>2.093063</td>\n",
       "    </tr>\n",
       "    <tr>\n",
       "      <th>3.0</th>\n",
       "      <td>1.528380</td>\n",
       "      <td>6.800482</td>\n",
       "      <td>2.798074</td>\n",
       "      <td>42.204678</td>\n",
       "      <td>2.470588</td>\n",
       "      <td>2.055040</td>\n",
       "      <td>1.851393</td>\n",
       "      <td>1.817337</td>\n",
       "      <td>3.425181</td>\n",
       "      <td>2.384245</td>\n",
       "      <td>2.758514</td>\n",
       "      <td>1.852081</td>\n",
       "      <td>3.733746</td>\n",
       "      <td>3.260062</td>\n",
       "      <td>3.407981</td>\n",
       "      <td>2.630203</td>\n",
       "    </tr>\n",
       "    <tr>\n",
       "      <th>4.0</th>\n",
       "      <td>1.483260</td>\n",
       "      <td>3.709841</td>\n",
       "      <td>3.822117</td>\n",
       "      <td>44.010145</td>\n",
       "      <td>3.265134</td>\n",
       "      <td>3.915793</td>\n",
       "      <td>3.914440</td>\n",
       "      <td>3.905648</td>\n",
       "      <td>3.799797</td>\n",
       "      <td>2.420358</td>\n",
       "      <td>3.541089</td>\n",
       "      <td>1.899560</td>\n",
       "      <td>4.000338</td>\n",
       "      <td>3.540413</td>\n",
       "      <td>2.868448</td>\n",
       "      <td>2.154887</td>\n",
       "    </tr>\n",
       "    <tr>\n",
       "      <th>5.0</th>\n",
       "      <td>1.522169</td>\n",
       "      <td>6.407337</td>\n",
       "      <td>3.403509</td>\n",
       "      <td>39.000000</td>\n",
       "      <td>2.416268</td>\n",
       "      <td>2.632536</td>\n",
       "      <td>2.339394</td>\n",
       "      <td>2.656459</td>\n",
       "      <td>3.813716</td>\n",
       "      <td>2.317384</td>\n",
       "      <td>3.223923</td>\n",
       "      <td>1.868900</td>\n",
       "      <td>4.250399</td>\n",
       "      <td>3.251675</td>\n",
       "      <td>3.492504</td>\n",
       "      <td>2.511005</td>\n",
       "    </tr>\n",
       "    <tr>\n",
       "      <th>6.0</th>\n",
       "      <td>1.505588</td>\n",
       "      <td>5.864234</td>\n",
       "      <td>1.910585</td>\n",
       "      <td>39.182117</td>\n",
       "      <td>2.514135</td>\n",
       "      <td>2.479947</td>\n",
       "      <td>2.184747</td>\n",
       "      <td>2.382314</td>\n",
       "      <td>3.477646</td>\n",
       "      <td>2.480934</td>\n",
       "      <td>3.325444</td>\n",
       "      <td>1.708416</td>\n",
       "      <td>3.642669</td>\n",
       "      <td>3.272518</td>\n",
       "      <td>2.940500</td>\n",
       "      <td>2.409599</td>\n",
       "    </tr>\n",
       "    <tr>\n",
       "      <th>7.0</th>\n",
       "      <td>1.527695</td>\n",
       "      <td>5.908126</td>\n",
       "      <td>2.469983</td>\n",
       "      <td>43.355887</td>\n",
       "      <td>2.580763</td>\n",
       "      <td>2.636816</td>\n",
       "      <td>2.311443</td>\n",
       "      <td>2.249751</td>\n",
       "      <td>3.255390</td>\n",
       "      <td>2.369154</td>\n",
       "      <td>2.556219</td>\n",
       "      <td>1.906468</td>\n",
       "      <td>4.121725</td>\n",
       "      <td>3.620564</td>\n",
       "      <td>3.243118</td>\n",
       "      <td>2.160862</td>\n",
       "    </tr>\n",
       "    <tr>\n",
       "      <th>8.0</th>\n",
       "      <td>1.533137</td>\n",
       "      <td>3.499837</td>\n",
       "      <td>2.551747</td>\n",
       "      <td>45.051257</td>\n",
       "      <td>2.955273</td>\n",
       "      <td>2.914136</td>\n",
       "      <td>2.669278</td>\n",
       "      <td>2.819785</td>\n",
       "      <td>3.484492</td>\n",
       "      <td>2.318968</td>\n",
       "      <td>3.082599</td>\n",
       "      <td>1.961802</td>\n",
       "      <td>4.085211</td>\n",
       "      <td>3.977147</td>\n",
       "      <td>3.254979</td>\n",
       "      <td>1.761019</td>\n",
       "    </tr>\n",
       "  </tbody>\n",
       "</table>\n",
       "</div>"
      ],
      "text/plain": [
       "            se002     se005     se009     se003a      q007      q008  \\\n",
       "country                                                                \n",
       "1.0      1.534176  6.605947  3.471975  50.809296  2.841080  2.371497   \n",
       "2.0      1.541794  5.292386  3.017936  43.841963  2.891371  2.795939   \n",
       "3.0      1.528380  6.800482  2.798074  42.204678  2.470588  2.055040   \n",
       "4.0      1.483260  3.709841  3.822117  44.010145  3.265134  3.915793   \n",
       "5.0      1.522169  6.407337  3.403509  39.000000  2.416268  2.632536   \n",
       "6.0      1.505588  5.864234  1.910585  39.182117  2.514135  2.479947   \n",
       "7.0      1.527695  5.908126  2.469983  43.355887  2.580763  2.636816   \n",
       "8.0      1.533137  3.499837  2.551747  45.051257  2.955273  2.914136   \n",
       "\n",
       "             q009      q010      q006      q128      q005      q027      q105  \\\n",
       "country                                                                         \n",
       "1.0      2.004443  2.050581  2.939508  2.347232  2.427204  1.785031  4.427888   \n",
       "2.0      2.614552  2.809137  3.172250  2.233164  2.470051  1.832826  2.921827   \n",
       "3.0      1.851393  1.817337  3.425181  2.384245  2.758514  1.852081  3.733746   \n",
       "4.0      3.914440  3.905648  3.799797  2.420358  3.541089  1.899560  4.000338   \n",
       "5.0      2.339394  2.656459  3.813716  2.317384  3.223923  1.868900  4.250399   \n",
       "6.0      2.184747  2.382314  3.477646  2.480934  3.325444  1.708416  3.642669   \n",
       "7.0      2.311443  2.249751  3.255390  2.369154  2.556219  1.906468  4.121725   \n",
       "8.0      2.669278  2.819785  3.484492  2.318968  3.082599  1.961802  4.085211   \n",
       "\n",
       "             q106      q123      q127  \n",
       "country                                \n",
       "1.0      3.592618  3.836637  2.194463  \n",
       "2.0      2.732995  3.141794  2.093063  \n",
       "3.0      3.260062  3.407981  2.630203  \n",
       "4.0      3.540413  2.868448  2.154887  \n",
       "5.0      3.251675  3.492504  2.511005  \n",
       "6.0      3.272518  2.940500  2.409599  \n",
       "7.0      3.620564  3.243118  2.160862  \n",
       "8.0      3.977147  3.254979  1.761019  "
      ]
     },
     "execution_count": 58,
     "metadata": {},
     "output_type": "execute_result"
    }
   ],
   "source": [
    "X_test.groupby(\"country\").mean()"
   ]
  },
  {
   "cell_type": "code",
   "execution_count": null,
   "id": "5dedaf9d",
   "metadata": {},
   "outputs": [],
   "source": []
  }
 ],
 "metadata": {
  "kernelspec": {
   "display_name": "Python 3 (ipykernel)",
   "language": "python",
   "name": "python3"
  },
  "language_info": {
   "codemirror_mode": {
    "name": "ipython",
    "version": 3
   },
   "file_extension": ".py",
   "mimetype": "text/x-python",
   "name": "python",
   "nbconvert_exporter": "python",
   "pygments_lexer": "ipython3",
   "version": "3.9.7"
  }
 },
 "nbformat": 4,
 "nbformat_minor": 5
}
